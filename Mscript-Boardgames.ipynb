{
  "cells": [
    {
      "cell_type": "code",
      "execution_count": 334,
      "metadata": {
        "id": "3rzu2RDxAkHW"
      },
      "outputs": [],
      "source": [
        "import matplotlib.pyplot as plt\n",
        "import pandas as pd\n",
        "import numpy as np\n",
        "from sklearn.cluster import KMeans\n",
        "from pathlib import Path\n",
        "from sklearn.preprocessing import StandardScaler\n",
        "from sklearn.neighbors import KNeighborsClassifier\n",
        "from scipy.sparse import csr_matrix\n",
        "import random"
      ]
    },
    {
      "cell_type": "code",
      "execution_count": 249,
      "metadata": {
        "colab": {
          "base_uri": "https://localhost:8080/",
          "height": 1000
        },
        "id": "W1n0sXmgspmO",
        "outputId": "7cfeab62-32fc-4d46-8342-10ec4b95e4ed"
      },
      "outputs": [
        {
          "data": {
            "text/html": "<div>\n<style scoped>\n    .dataframe tbody tr th:only-of-type {\n        vertical-align: middle;\n    }\n\n    .dataframe tbody tr th {\n        vertical-align: top;\n    }\n\n    .dataframe thead th {\n        text-align: right;\n    }\n</style>\n<table border=\"1\" class=\"dataframe\">\n  <thead>\n    <tr style=\"text-align: right;\">\n      <th></th>\n      <th>objectid</th>\n      <th>name</th>\n      <th>average</th>\n      <th>avgweight</th>\n      <th>boardgamecategory</th>\n      <th>boardgamemechanic</th>\n    </tr>\n  </thead>\n  <tbody>\n    <tr>\n      <th>0</th>\n      <td>174430</td>\n      <td>Gloomhaven</td>\n      <td>8.85292</td>\n      <td>3.8078</td>\n      <td>['Adventure', 'Exploration', 'Fantasy', 'Fight...</td>\n      <td>['Campaign / Battle Card Driven', 'Cooperative...</td>\n    </tr>\n    <tr>\n      <th>1</th>\n      <td>161936</td>\n      <td>Pandemic Legacy  Season 1</td>\n      <td>8.62499</td>\n      <td>2.8301</td>\n      <td>['Environmental', 'Medical']</td>\n      <td>['Action Points', 'Cooperative Game', 'Hand Ma...</td>\n    </tr>\n    <tr>\n      <th>2</th>\n      <td>167791</td>\n      <td>Terraforming Mars</td>\n      <td>8.42299</td>\n      <td>3.2313</td>\n      <td>['Economic', 'Environmental', 'Industry / Manu...</td>\n      <td>['Card Drafting', 'End Game Bonuses', 'Hand Ma...</td>\n    </tr>\n    <tr>\n      <th>3</th>\n      <td>182028</td>\n      <td>Through the Ages  A New Story of Civilization</td>\n      <td>8.49419</td>\n      <td>4.3850</td>\n      <td>['Card Game', 'Civilization', 'Economic']</td>\n      <td>['Action Points', 'Auction/Bidding', 'Auction:...</td>\n    </tr>\n    <tr>\n      <th>4</th>\n      <td>224517</td>\n      <td>Brass  Birmingham</td>\n      <td>8.62031</td>\n      <td>3.9122</td>\n      <td>['Economic', 'Industry / Manufacturing', 'Tran...</td>\n      <td>['Hand Management', 'Income', 'Loans', 'Market...</td>\n    </tr>\n  </tbody>\n</table>\n</div>",
            "text/plain": "   objectid                                           name  average  \\\n0    174430                                     Gloomhaven  8.85292   \n1    161936                      Pandemic Legacy  Season 1  8.62499   \n2    167791                              Terraforming Mars  8.42299   \n3    182028  Through the Ages  A New Story of Civilization  8.49419   \n4    224517                              Brass  Birmingham  8.62031   \n\n   avgweight                                  boardgamecategory  \\\n0     3.8078  ['Adventure', 'Exploration', 'Fantasy', 'Fight...   \n1     2.8301                       ['Environmental', 'Medical']   \n2     3.2313  ['Economic', 'Environmental', 'Industry / Manu...   \n3     4.3850          ['Card Game', 'Civilization', 'Economic']   \n4     3.9122  ['Economic', 'Industry / Manufacturing', 'Tran...   \n\n                                   boardgamemechanic  \n0  ['Campaign / Battle Card Driven', 'Cooperative...  \n1  ['Action Points', 'Cooperative Game', 'Hand Ma...  \n2  ['Card Drafting', 'End Game Bonuses', 'Hand Ma...  \n3  ['Action Points', 'Auction/Bidding', 'Auction:...  \n4  ['Hand Management', 'Income', 'Loans', 'Market...  "
          },
          "execution_count": 249,
          "metadata": {},
          "output_type": "execute_result"
        }
      ],
      "source": [
        "# Need to upload \"boardgames.csv\" to files every session.\n",
        "file_path = ('/Users/melissa/Downloads/Project 4 /boardgames.csv')\n",
        "boardgame_df = pd.read_csv(file_path)\n",
        "# Unicode Problem on row 24\n",
        "boardgame_df.head(5)"
      ]
    },
    {
      "cell_type": "code",
      "execution_count": 250,
      "metadata": {
        "colab": {
          "base_uri": "https://localhost:8080/",
          "height": 1000
        },
        "id": "UYwNEBsLogia",
        "outputId": "c0d51924-e7a8-4bf3-c52a-f9b8eb14c13f"
      },
      "outputs": [
        {
          "name": "stderr",
          "output_type": "stream",
          "text": [
            "/Users/melissa/opt/anaconda3/envs/PythonData/lib/python3.6/site-packages/ipykernel_launcher.py:2: DeprecationWarning: invalid escape sequence '\\/'\n",
            "  \n",
            "/Users/melissa/opt/anaconda3/envs/PythonData/lib/python3.6/site-packages/ipykernel_launcher.py:2: DeprecationWarning: invalid escape sequence '\\T'\n",
            "  \n",
            "/Users/melissa/opt/anaconda3/envs/PythonData/lib/python3.6/site-packages/ipykernel_launcher.py:2: DeprecationWarning: invalid escape sequence '\\A'\n",
            "  \n",
            "/Users/melissa/opt/anaconda3/envs/PythonData/lib/python3.6/site-packages/ipykernel_launcher.py:2: DeprecationWarning: invalid escape sequence '\\W'\n",
            "  \n",
            "/Users/melissa/opt/anaconda3/envs/PythonData/lib/python3.6/site-packages/ipykernel_launcher.py:2: DeprecationWarning: invalid escape sequence '\\O'\n",
            "  \n",
            "/Users/melissa/opt/anaconda3/envs/PythonData/lib/python3.6/site-packages/ipykernel_launcher.py:2: DeprecationWarning: invalid escape sequence '\\D'\n",
            "  \n",
            "/Users/melissa/opt/anaconda3/envs/PythonData/lib/python3.6/site-packages/ipykernel_launcher.py:2: DeprecationWarning: invalid escape sequence '\\I'\n",
            "  \n"
          ]
        },
        {
          "data": {
            "text/html": "<div>\n<style scoped>\n    .dataframe tbody tr th:only-of-type {\n        vertical-align: middle;\n    }\n\n    .dataframe tbody tr th {\n        vertical-align: top;\n    }\n\n    .dataframe thead th {\n        text-align: right;\n    }\n</style>\n<table border=\"1\" class=\"dataframe\">\n  <thead>\n    <tr style=\"text-align: right;\">\n      <th></th>\n      <th>objectid</th>\n      <th>name</th>\n      <th>average</th>\n      <th>avgweight</th>\n      <th>boardgamecategory</th>\n      <th>boardgamemechanic</th>\n    </tr>\n  </thead>\n  <tbody>\n    <tr>\n      <th>0</th>\n      <td>174430</td>\n      <td>Gloomhaven</td>\n      <td>8.85292</td>\n      <td>3.8078</td>\n      <td>['Adventure', 'Exploration', 'Fantasy', 'Fight...</td>\n      <td>['Campaign / Battle Card Driven', 'Cooperative...</td>\n    </tr>\n    <tr>\n      <th>1</th>\n      <td>161936</td>\n      <td>Pandemic Legacy  Season 1</td>\n      <td>8.62499</td>\n      <td>2.8301</td>\n      <td>['Environmental', 'Medical']</td>\n      <td>['Action Points', 'Cooperative Game', 'Hand Ma...</td>\n    </tr>\n    <tr>\n      <th>2</th>\n      <td>167791</td>\n      <td>Terraforming Mars</td>\n      <td>8.42299</td>\n      <td>3.2313</td>\n      <td>['Economic', 'Environmental', 'Industry / Manu...</td>\n      <td>['Card Drafting', 'End Game Bonuses', 'Hand Ma...</td>\n    </tr>\n    <tr>\n      <th>3</th>\n      <td>182028</td>\n      <td>Through the Ages  A New Story of Civilization</td>\n      <td>8.49419</td>\n      <td>4.3850</td>\n      <td>['Card Game', 'Civilization', 'Economic']</td>\n      <td>['Action Points', 'Auction/Bidding', 'Auction:...</td>\n    </tr>\n    <tr>\n      <th>4</th>\n      <td>224517</td>\n      <td>Brass  Birmingham</td>\n      <td>8.62031</td>\n      <td>3.9122</td>\n      <td>['Economic', 'Industry / Manufacturing', 'Tran...</td>\n      <td>['Hand Management', 'Income', 'Loans', 'Market...</td>\n    </tr>\n  </tbody>\n</table>\n</div>",
            "text/plain": "   objectid                                           name  average  \\\n0    174430                                     Gloomhaven  8.85292   \n1    161936                      Pandemic Legacy  Season 1  8.62499   \n2    167791                              Terraforming Mars  8.42299   \n3    182028  Through the Ages  A New Story of Civilization  8.49419   \n4    224517                              Brass  Birmingham  8.62031   \n\n   avgweight                                  boardgamecategory  \\\n0     3.8078  ['Adventure', 'Exploration', 'Fantasy', 'Fight...   \n1     2.8301                       ['Environmental', 'Medical']   \n2     3.2313  ['Economic', 'Environmental', 'Industry / Manu...   \n3     4.3850          ['Card Game', 'Civilization', 'Economic']   \n4     3.9122  ['Economic', 'Industry / Manufacturing', 'Tran...   \n\n                                   boardgamemechanic  \n0  ['Campaign / Battle Card Driven', 'Cooperative...  \n1  ['Action Points', 'Cooperative Game', 'Hand Ma...  \n2  ['Card Drafting', 'End Game Bonuses', 'Hand Ma...  \n3  ['Action Points', 'Auction/Bidding', 'Auction:...  \n4  ['Hand Management', 'Income', 'Loans', 'Market...  "
          },
          "execution_count": 250,
          "metadata": {},
          "output_type": "execute_result"
        }
      ],
      "source": [
        "# Our decoding (lambda function= no line defining and contain in one line of code. Decode - apply - replace )\n",
        "decode_lambda = lambda x: bytearray(x, 'utf-8').decode('unicode-escape')\n",
        "# Applying the decoding to the column, ignore errors.\n",
        "boardgame_df['name'] = boardgame_df['name'].apply(lambda x: decode_lambda(x))\n",
        "# Unicode replaced with proper characters\n",
        "boardgame_df.head(5)"
      ]
    },
    {
      "cell_type": "code",
      "execution_count": 251,
      "metadata": {
        "colab": {
          "base_uri": "https://localhost:8080/",
          "height": 419
        },
        "id": "6nVs1pTQo5V2",
        "outputId": "df403d72-8e71-4b54-a779-dea07e6ef89f"
      },
      "outputs": [
        {
          "data": {
            "text/html": "<div>\n<style scoped>\n    .dataframe tbody tr th:only-of-type {\n        vertical-align: middle;\n    }\n\n    .dataframe tbody tr th {\n        vertical-align: top;\n    }\n\n    .dataframe thead th {\n        text-align: right;\n    }\n</style>\n<table border=\"1\" class=\"dataframe\">\n  <thead>\n    <tr style=\"text-align: right;\">\n      <th></th>\n      <th>ID</th>\n      <th>Name</th>\n      <th>Avg Rating</th>\n      <th>Complexity</th>\n      <th>Category</th>\n      <th>Mechanic</th>\n    </tr>\n  </thead>\n  <tbody>\n    <tr>\n      <th>0</th>\n      <td>174430</td>\n      <td>Gloomhaven</td>\n      <td>8.85292</td>\n      <td>3.8078</td>\n      <td>['Adventure', 'Exploration', 'Fantasy', 'Fight...</td>\n      <td>['Campaign / Battle Card Driven', 'Cooperative...</td>\n    </tr>\n    <tr>\n      <th>1</th>\n      <td>161936</td>\n      <td>Pandemic Legacy  Season 1</td>\n      <td>8.62499</td>\n      <td>2.8301</td>\n      <td>['Environmental', 'Medical']</td>\n      <td>['Action Points', 'Cooperative Game', 'Hand Ma...</td>\n    </tr>\n    <tr>\n      <th>2</th>\n      <td>167791</td>\n      <td>Terraforming Mars</td>\n      <td>8.42299</td>\n      <td>3.2313</td>\n      <td>['Economic', 'Environmental', 'Industry / Manu...</td>\n      <td>['Card Drafting', 'End Game Bonuses', 'Hand Ma...</td>\n    </tr>\n    <tr>\n      <th>3</th>\n      <td>182028</td>\n      <td>Through the Ages  A New Story of Civilization</td>\n      <td>8.49419</td>\n      <td>4.3850</td>\n      <td>['Card Game', 'Civilization', 'Economic']</td>\n      <td>['Action Points', 'Auction/Bidding', 'Auction:...</td>\n    </tr>\n    <tr>\n      <th>4</th>\n      <td>224517</td>\n      <td>Brass  Birmingham</td>\n      <td>8.62031</td>\n      <td>3.9122</td>\n      <td>['Economic', 'Industry / Manufacturing', 'Tran...</td>\n      <td>['Hand Management', 'Income', 'Loans', 'Market...</td>\n    </tr>\n  </tbody>\n</table>\n</div>",
            "text/plain": "       ID                                           Name  Avg Rating  \\\n0  174430                                     Gloomhaven     8.85292   \n1  161936                      Pandemic Legacy  Season 1     8.62499   \n2  167791                              Terraforming Mars     8.42299   \n3  182028  Through the Ages  A New Story of Civilization     8.49419   \n4  224517                              Brass  Birmingham     8.62031   \n\n   Complexity                                           Category  \\\n0      3.8078  ['Adventure', 'Exploration', 'Fantasy', 'Fight...   \n1      2.8301                       ['Environmental', 'Medical']   \n2      3.2313  ['Economic', 'Environmental', 'Industry / Manu...   \n3      4.3850          ['Card Game', 'Civilization', 'Economic']   \n4      3.9122  ['Economic', 'Industry / Manufacturing', 'Tran...   \n\n                                            Mechanic  \n0  ['Campaign / Battle Card Driven', 'Cooperative...  \n1  ['Action Points', 'Cooperative Game', 'Hand Ma...  \n2  ['Card Drafting', 'End Game Bonuses', 'Hand Ma...  \n3  ['Action Points', 'Auction/Bidding', 'Auction:...  \n4  ['Hand Management', 'Income', 'Loans', 'Market...  "
          },
          "execution_count": 251,
          "metadata": {},
          "output_type": "execute_result"
        }
      ],
      "source": [
        "boardgame_df = boardgame_df.rename(columns={'objectid': 'ID', 'name': 'Name', 'average': 'Avg Rating', 'avgweight': 'Complexity', 'boardgamecategory': 'Category', 'boardgamemechanic': 'Mechanic'})\n",
        "\n",
        "# Other languages are supported by the decoding: Row 70\n",
        "boardgame_df.head(5)"
      ]
    },
    {
      "cell_type": "code",
      "execution_count": 252,
      "metadata": {},
      "outputs": [
        {
          "data": {
            "text/html": "<div>\n<style scoped>\n    .dataframe tbody tr th:only-of-type {\n        vertical-align: middle;\n    }\n\n    .dataframe tbody tr th {\n        vertical-align: top;\n    }\n\n    .dataframe thead th {\n        text-align: right;\n    }\n</style>\n<table border=\"1\" class=\"dataframe\">\n  <thead>\n    <tr style=\"text-align: right;\">\n      <th></th>\n      <th>ID</th>\n      <th>Name</th>\n      <th>Avg Rating</th>\n      <th>Complexity</th>\n    </tr>\n  </thead>\n  <tbody>\n    <tr>\n      <th>0</th>\n      <td>174430</td>\n      <td>Gloomhaven</td>\n      <td>8.85292</td>\n      <td>3.8078</td>\n    </tr>\n    <tr>\n      <th>1</th>\n      <td>161936</td>\n      <td>Pandemic Legacy  Season 1</td>\n      <td>8.62499</td>\n      <td>2.8301</td>\n    </tr>\n    <tr>\n      <th>2</th>\n      <td>167791</td>\n      <td>Terraforming Mars</td>\n      <td>8.42299</td>\n      <td>3.2313</td>\n    </tr>\n    <tr>\n      <th>3</th>\n      <td>182028</td>\n      <td>Through the Ages  A New Story of Civilization</td>\n      <td>8.49419</td>\n      <td>4.3850</td>\n    </tr>\n    <tr>\n      <th>4</th>\n      <td>224517</td>\n      <td>Brass  Birmingham</td>\n      <td>8.62031</td>\n      <td>3.9122</td>\n    </tr>\n  </tbody>\n</table>\n</div>",
            "text/plain": "       ID                                           Name  Avg Rating  \\\n0  174430                                     Gloomhaven     8.85292   \n1  161936                      Pandemic Legacy  Season 1     8.62499   \n2  167791                              Terraforming Mars     8.42299   \n3  182028  Through the Ages  A New Story of Civilization     8.49419   \n4  224517                              Brass  Birmingham     8.62031   \n\n   Complexity  \n0      3.8078  \n1      2.8301  \n2      3.2313  \n3      4.3850  \n4      3.9122  "
          },
          "execution_count": 252,
          "metadata": {},
          "output_type": "execute_result"
        }
      ],
      "source": [
        "# Create new dataframe with columns that do not need dummy variables\n",
        "\n",
        "boardgame_trunc = boardgame_df.drop([\"Category\",\"Mechanic\"],axis=1)\n",
        "boardgame_trunc.head()"
      ]
    },
    {
      "cell_type": "code",
      "execution_count": 253,
      "metadata": {},
      "outputs": [],
      "source": [
        "# Create new dataframes for Category and Mechanic columns\n",
        "# Fix formatting in both new dfs - currently set as string, not list (as provided by source) **is the lamda function to shorten it?\n",
        "\n",
        "categories_df = boardgame_df[['ID', 'Category']].copy()\n",
        "categories_df['Category'] = categories_df['Category'].apply(lambda x: x[1:len(x)-1].split(', '))\n",
        "\n",
        "mechanics_df = boardgame_df[['ID', 'Mechanic']].copy()\n",
        "mechanics_df['Mechanic'] = mechanics_df['Mechanic'].apply(lambda x: x[1:len(x)-1].split(', '))"
      ]
    },
    {
      "cell_type": "code",
      "execution_count": 254,
      "metadata": {},
      "outputs": [
        {
          "data": {
            "text/plain": "Category\n'Card Game'                                                                   5686\n'Wargame'                                                                     3500\n'Fantasy'                                                                     2361\n'Party Game'                                                                  1723\n'Dice'                                                                        1712\n'Fighting'                                                                    1565\n'Abstract Strategy'                                                           1541\n'Childrens Game'                                                              1521\n'Science Fiction'                                                             1495\n'Economic'                                                                    1423\n'Bluffing'                                                                    1136\n'World War II'                                                                1129\n'Animals'                                                                     1107\n'Humor'                                                                       1064\n'Deduction'                                                                   1046\n'Adventure'                                                                   1017\n'Action / Dexterity'                                                           999\n'Movies / TV / Radio theme'                                                    980\n'Miniatures'                                                                   925\n'Medieval'                                                                     888\n'Exploration'                                                                  792\n'Racing'                                                                       709\n'Ancient'                                                                      697\n'Negotiation'                                                                  636\n'Real-time'                                                                    623\n'Horror'                                                                       593\n'Nautical'                                                                     575\n'Trivia'                                                                       572\n'Sports'                                                                       520\n'Puzzle'                                                                       511\n'Memory'                                                                       495\n'Political'                                                                    487\n'City Building'                                                                466\n'Word Game'                                                                    462\n'Print & Play'                                                                 462\n'Educational'                                                                  442\n'Novel-based'                                                                  437\n'Territory Building'                                                           416\n'Transportation'                                                               361\n'Collectible Components'                                                       342\n'Modern Warfare'                                                               331\n'Murder/Mystery'                                                               329\n'Civilization'                                                                 319\n'Trains'                                                                       318\n'Mythology'                                                                    303\n'Pirates'                                                                      301\n'Napoleonic'                                                                   290\n'Comic Book / Strip'                                                           288\n'Video Game Theme'                                                             271\n'Industry / Manufacturing'                                                     254\n'Aviation / Flight'                                                            248\n'Renaissance'                                                                  234\n'Expansion for Base-game'                                                      229\n'Farming'                                                                      216\n'Space Exploration'                                                            214\n'American Civil War'                                                           211\n'American West'                                                                205\n'World War I'                                                                  198\n'Electronic'                                                                   189\n'Travel'                                                                       184\n'Zombies'                                                                      175\n'Maze'                                                                         172\n'Spies/Secret Agents'                                                          163\n'Number'                                                                       162\n'Environmental'                                                                158\n'Age of Reason'                                                                152\n'Mature / Adult'                                                               134\n'Mafia'                                                                        132\n'Prehistoric'                                                                  132\n'Book'                                                                         129\n'Math'                                                                         124\n'Religious'                                                                     97\n'Post-Napoleonic'                                                               96\n'Civil War'                                                                     92\n'Arabian'                                                                       88\n'Music'                                                                         80\n'Medical'                                                                       74\n'American Revolutionary War'                                                    72\n'Vietnam War'                                                                   52\n'Pike and Shot'                                                                 49\n'American Indian Wars'                                                          35\n'Game System'                                                                   30\n'Korean War'                                                                    21\n'KOSMOS'                                                                        13\n'Schmidt Spiele'                                                                 8\n'White Goblin Games'                                                             7\n'Ravensburger Spieleverlag GmbH'                                                 7\n'Piatnik'                                                                        7\n'Blue Orange (EU)'                                                               5\n'(Unknown)'                                                                      5\n'Hasbro'                                                                         5\n'Historien Spiele Galerie (Historien Spielegalerie)'                             5\n'Nu00fcrnberger-Spielkarten-Verlag'                                              4\n'999 Games'                                                                      4\n'R&R Games'                                                                      4\n'Parker Brothers'                                                                4\n'Jumbo'                                                                          4\n'Japanime Games'                                                                 3\n'Tasty Minstrel Games'                                                           3\n'(Self-Published)'                                                               3\n'Arclight'                                                                       3\n'Arrakis Games'                                                                  3\n'Blue Orange Games'                                                              3\n'Cheapass Games'                                                                 3\n'Pegasus Spiele'                                                                 3\n'Zvezda'                                                                         3\n'franjos Spieleverlag'                                                           3\n'(Web published)'                                                                3\n'Ludically'                                                                      2\n'Korea Boardgames co.'                                                           2\n'Egmont Polska'                                                                  2\n'Angry Lion Games'                                                               2\n'Happy Baobab'                                                                   2\n'Hobby Japan'                                                                    2\n'Ediciones MasQueOca'                                                            2\n'Kolossal Games'                                                                 2\n'Asmodee'                                                                        2\n'Blatz'                                                                          2\n'(Unpublished)'                                                                  2\n'Edge Entertainment'                                                             2\n'Hobby World'                                                                    2\n'Alga'                                                                           2\n'CMON Limited'                                                                   2\n'Mayday Games'                                                                   2\n'Lifestyle Boardgames Ltd'                                                       2\n'AMIGO'                                                                          2\n'Game Factory'                                                                   2\n'Looney Labs'                                                                    2\n'Heidelberger Spieleverlag'                                                      2\n'Cube Factory of Ideas'                                                          2\n'Mattel'                                                                         2\n'(Public Domain)'                                                                2\n'Zoch Verlag'                                                                    2\n'The Avalon Hill Game Co'                                                        2\n'Yoka by Tsume'                                                                  2\n'Z-Man Games'                                                                    2\n'Rio Grande Games'                                                               2\n'cosaic'                                                                         2\n'University Games'                                                               2\n'Renegade Game Studios'                                                          2\n'Rebel'                                                                          2\n'dlp games'                                                                      2\n'Trefl'                                                                          2\n'WizKids'                                                                        2\n'Pressman Toy Corp.'                                                             2\n'Popcorn Games'                                                                  2\n'Splotter Spellen'                                                               2\n'Small Box Games'                                                                2\n'Tactic'                                                                         2\n'Pandasaurus Games'                                                              2\n'Moskito Spiele'                                                                 2\n'Pendragon Game Studio'                                                          2\n'Yoka Boardgames'                                                                2\n'The Game Crafter'                                                               1\n'Super Game Company'                                                             1\n'Trefl Joker Line'                                                               1\n'Super Meeple'                                                                   1\n'Argentum Verlag'                                                                1\n'Clementoni'                                                                     1\n'UBO CnC'                                                                        1\n'Archona Games'                                                                  1\n'Archie McPhee'                                                                  1\n'Arcane Wonders'                                                                 1\n'Coldicutt Games'                                                                1\n'Stronghold Games'                                                               1\n'Buki Toys'                                                                      1\n'Conclave Editora'                                                               1\n'Aporta Games'                                                                   1\n'Corax Games'                                                                    1\n'Ankama'                                                                         1\n'Whitman'                                                                        1\n'Winning Moves Games (USA)'                                                      1\n'Wishing Tree Games'                                                             1\n'Cranio Creations'                                                               1\n'The Broken Token'                                                               1\n'Asobition (u30a2u30bdu30d3u30b7u30e7u30f3)'                                     1\n'Those Darn Games!'                                                              1\n'Awesome Games'                                                                  1\n'Baksha Games'                                                                   1\n'Broadway Toys LTD'                                                              1\n'Sweet Games'                                                                    1\n'Brain Picnic'                                                                   1\n'Borras Plana S.A.'                                                              1\n'Boom Boom Games'                                                                1\n'The Toy Company Argentina S.R.L.'                                               1\n'Board Game Box'                                                                 1\n'Theta'                                                                          1\n'Swan Panasia Co.'                                                               1\n'ThinkFun'                                                                       1\n'CO-5'                                                                           1\n'Thomas Sackl Spiele'                                                            1\n'Thomson Bros.'                                                                  1\n'Big G Creative'                                                                 1\n'Belser (Kosmos)'                                                                1\n'Bard Centrum Gier'                                                              1\n'Bankiiiz Editions'                                                              1\n'Bananagrams'                                                                    1\n'Calliope Games'                                                                 1\n'Bambus Spieleverlag'                                                            1\n'Mosigra'                                                                        1\n'Yetem S.A.'                                                                     1\n'2009 Gouden Ludo Nominee'                                                       1\n'2015 Best Australian Awards Best Australian Game Nominee'                       1\n'2013 Spiel der Spiele Hit fu00fcr Familien Recommended'                         1\n'2013 Kinderspielexperten 8-to-13-year-olds Nominee'                             1\n'2012 Spiel des Jahres Kennerspiel des Jahres Recommended'                       1\n'2012 International Gamers Award - General Strategy: Multi-player Nominee'       1\n'2012 Golden Geek Best Strategy Board Game Nominee'                              1\n'2012 Deutscher Spiele Preis Best Family/Adult Game 3rd Place'                   1\n'2011/2012 Boardgames Australia Awards Best International Game Nominee'          1\n'2011 u00c5rets Spill Best Family Game Nominee'                                  1\n'2009 u00c5rets Spill Best Family Game Nominee'                                  1\n'2009 Japan Boardgame Prize Voters Selection Nominee'                            1\n'2009 Golden Geek Best Family Board Game Nominee'                                1\n'Airfix'                                                                         1\n'2009 Golden Geek Best Childrens Board Game Nominee'                             1\n'2008 Spiel des Jahres Winner'                                                   1\n'2008 Spiel des Jahres Nominee'                                                  1\n'2008 Japan Boardgame Prize Voters Selection Nominee'                            1\n'2004 Spiel der Spiele Hit mit Freunden Recommended'                             1\n'1987 Spiel des Jahres Recommended'                                              1\n'1-2-3-Games u00c9ditions'                                                       1\n'eggertspiele'                                                                   1\n'funbot'                                                                         1\n'hobbity.eu'                                                                     1\n'nikamundus'                                                                     1\n'2015 Cardboard Republic Socializer Laurel Nominee'                              1\n'2015 Cardboard Republic Tactician Laurel Nominee'                               1\n'2015 Gioco dellu2019Anno Nominee'                                               1\n'2015 Golden Geek Best Board Game Artwork/Presentation Nominee'                  1\n'Zacatrus'                                                                       1\n'CrowD Games'                                                                    1\n'Adlung-Spiele'                                                                  1\n'Zygomatic'                                                                      1\n'ASS Altenburger Spielkarten'                                                    1\n'AS Company'                                                                     1\n'APE Games'                                                                      1\n'db-Spiele'                                                                      1\n'ADC Blackfire Entertainment'                                                    1\n'2Tomatoes'                                                                      1\n'2F-Spiele'                                                                      1\n'2019 Mensa Select Winner'                                                       1\n'2018 UK Games Expo Best Abstract Game Peoples Choice Winner'                    1\n'2018 UK Games Expo Best Abstract Game Judges Award Winner'                      1\n'2018 International Gamers Award - General Strategy: Multi-player Nominee'       1\n'2018 Cardboard Republic Architect Laurel Nominee'                               1\n'2017 Meeples Choice Nominee'                                                    1\n'2017 Golden Geek Best Cooperative Game Nominee'                                 1\n'2016 SXSW Tabletop Game of the Year Nominee'                                    1\n'2016 Jogo do Ano Nominee'                                                       1\n'2015 Spiel der Spiele Hit mit Freunden Recommended'                             1\n'2015 Mensa Select Winner'                                                       1\n'2015 Golden Geek Best Family Board Game Nominee'                                1\n'Crazy Pawn Games'                                                               1\n'Stonemaier Games'                                                               1\n'Stratus Games'                                                                  1\n'DDD Verlag GmbH'                                                                1\n'Kids Table BG'                                                                  1\n'Keep Exploring Games'                                                           1\n'Privateer Press'                                                                1\n'Jumping Turtle Games'                                                           1\n'Quick Simple Fun Games'                                                         1\n'Jugamos Tod@s'                                                                  1\n'Jouets Bo-Jeux Toys'                                                            1\n'Jolly Roger Games'                                                              1\n'Jeux Opla'                                                                      1\n'Jasco Games'                                                                    1\n'Quined Games'                                                                   1\n'Qullus Games'                                                                   1\n'Idea Development Company (IDEVCO)'                                              1\n'IRWIN Games'                                                                    1\n'IELLO'                                                                          1\n'IDW Games'                                                                      1\n'u65b0u30dcu30fcu30c9u30b2u30fcu30e0u515a (New Board Game Party)'                1\n'REXhry'                                                                         1\n'Rachat'                                                                         1\n'Historical Collections Group plc'                                               1\n'Herder Spiele'                                                                  1\n'Helvetiq'                                                                       1\n'Head Quarter Simulation Game Club'                                              1\n'SD Games'                                                                       1\n'Schleef/Jacobsen'                                                               1\n'Klee'                                                                           1\n'Koku00f6ru00een Kolorado'                                                       1\n'Prestel Verlag'                                                                 1\n'Manifest Destiny'                                                               1\n'Milton Bradley'                                                                 1\n'Microgame Design Group'                                                         1\n'Nordic Games GmbH'                                                              1\n'Meeple BR Jogos'                                                                1\n'Noris Spiele'                                                                   1\n'Oink Games'                                                                     1\n'Oxford Games'                                                                   1\n'Mayfair Games'                                                                  1\n'Paradigm Games Ltd'                                                             1\n'Patch Products'                                                                 1\n'MasterPieces'                                                                   1\n'Magellan'                                                                       1\n'Post  Scriptum'                                                                 1\n'Peter Pan Playthings'                                                           1\n'LudoArt Verlag'                                                                 1\n'Piecepack Games'                                                                1\n'Plaid Hat Games'                                                                1\n'Lookout Games'                                                                  1\n'Lion Rampant Imports'                                                           1\n'Level 99 Games'                                                                 1\n'Leobener Spiele'                                                                1\n'Lautapelit.fi'                                                                  1\n'Lakeside'                                                                       1\n'LA Producers Partnership'                                                       1\n'Hans im Glu00fcck'                                                              1\n'HUCH!'                                                                          1\n'Gu00e9m Klub Kft.'                                                              1\n'Sphinx Spieleverlag'                                                            1\n'F.X. Schmid'                                                                    1\n'Smart Ltd'                                                                      1\n'Social Sloth Games'                                                             1\n'Sophisticated Games'                                                            1\n'Elemental Designer Games'                                                       1\n'Sorry We Are French'                                                            1\n'Spaghetti Western Games'                                                        1\n'Spears Games'                                                                   1\n'Editrice Giochi'                                                                1\n'Edition Perlhuhn (Gu00f6ttinger Spiele)'                                        1\n'Edition Erlku00f6nig'                                                           1\n'Stanley Gibbons'                                                                1\n'Sit Down!'                                                                      1\n'Drei Magier Spiele'                                                             1\n'Dixon Games'                                                                    1\n'Die Spiele Agentur'                                                             1\n'Steve Jackson Games'                                                            1\n'Dice Hate Me Studio'                                                            1\n'Devir'                                                                          1\n'Delta Vision Publishing'                                                        1\n'Mizo Games'                                                                     1\n'Daily Magic Games'                                                              1\n'Dagoy'                                                                          1\n'Daedalus Productions'                                                           1\n'Family Fun & Learning Company'                                                  1\n'Fata Morgana Spiele'                                                            1\n'Group SNE'                                                                      1\n'Games Workshop Ltd.'                                                            1\n'Grey Fox Games'                                                                 1\n'Greenbrier Games'                                                               1\n'Green Couch Games'                                                              1\n'Goldsieber Spiele'                                                              1\n'GoccoGames'                                                                     1\n'Gigamic'                                                                        1\n'Ghenos Games'                                                                   1\n'Gemblo'                                                                         1\n'Gazebo Games UK Ltd.'                                                           1\n'GateOnGames'                                                                    1\n'Gap Closer Games'                                                               1\n'GameWorks Su00e0RL'                                                             1\n'Feelindigo'                                                                     1\n'Schwerkraft-Verlag'                                                             1\n'Selchow & Righter'                                                              1\n'Gale Force Nine'                                                                1\n'GDM Games'                                                                      1\n'G&RRR'                                                                          1\n'Front Porch Classics'                                                           1\n'Freie Spiel'                                                                    1\n'Floodgate Games'                                                                1\n'Si-yat-sa'                                                                      1\n'Fiery Dragon Productions'                                                       1\n'Feuerland Spiele'                                                               1\n'u685cu904au5eb5 (Ouyuuan)'                                                      1\ndtype: int64"
          },
          "execution_count": 254,
          "metadata": {},
          "output_type": "execute_result"
        }
      ],
      "source": [
        "pd.set_option('display.max_rows', 500)\n",
        "\n",
        "# Explode lists of categories to single level ***( so are we having the categories identified with the first theme )\n",
        "cat_counts = categories_df.explode('Category')\n",
        "cat_counts.columns.str.replace(\"'\",\"\")\n",
        "\n",
        "# Get value counts of each category\n",
        "cat_vc = cat_counts.groupby(\"Category\").size().sort_values(ascending=False)\n",
        "cat_vc\n"
      ]
    },
    {
      "cell_type": "code",
      "execution_count": 255,
      "metadata": {},
      "outputs": [],
      "source": [
        "# Identify relevant categories by dropping low count categories ( extraacted the data that had lowest counts)\n",
        "categories_to_keep = cat_vc[cat_vc > 100].index"
      ]
    },
    {
      "cell_type": "code",
      "execution_count": 256,
      "metadata": {},
      "outputs": [
        {
          "data": {
            "text/plain": "Index([''Card Game'', ''Wargame'', ''Fantasy'', ''Party Game'', ''Dice'',\n       ''Fighting'', ''Abstract Strategy'', ''Childrens Game'',\n       ''Science Fiction'', ''Economic'', ''Bluffing'', ''World War II'',\n       ''Animals'', ''Humor'', ''Deduction'', ''Adventure'',\n       ''Action / Dexterity'', ''Movies / TV / Radio theme'', ''Miniatures'',\n       ''Medieval'', ''Exploration'', ''Racing'', ''Ancient'', ''Negotiation'',\n       ''Real-time'', ''Horror'', ''Nautical'', ''Trivia'', ''Sports'',\n       ''Puzzle'', ''Memory'', ''Political'', ''City Building'', ''Word Game'',\n       ''Print & Play'', ''Educational'', ''Novel-based'',\n       ''Territory Building'', ''Transportation'', ''Collectible Components'',\n       ''Modern Warfare'', ''Murder/Mystery'', ''Civilization'', ''Trains'',\n       ''Mythology'', ''Pirates'', ''Napoleonic'', ''Comic Book / Strip'',\n       ''Video Game Theme'', ''Industry / Manufacturing'',\n       ''Aviation / Flight'', ''Renaissance'', ''Expansion for Base-game'',\n       ''Farming'', ''Space Exploration'', ''American Civil War'',\n       ''American West'', ''World War I'', ''Electronic'', ''Travel'',\n       ''Zombies'', ''Maze'', ''Spies/Secret Agents'', ''Number'',\n       ''Environmental'', ''Age of Reason'', ''Mature / Adult'', ''Mafia'',\n       ''Prehistoric'', ''Book'', ''Math''],\n      dtype='object', name='Category')"
          },
          "execution_count": 256,
          "metadata": {},
          "output_type": "execute_result"
        }
      ],
      "source": [
        "categories_to_keep"
      ]
    },
    {
      "cell_type": "code",
      "execution_count": 257,
      "metadata": {},
      "outputs": [
        {
          "data": {
            "text/html": "<div>\n<style scoped>\n    .dataframe tbody tr th:only-of-type {\n        vertical-align: middle;\n    }\n\n    .dataframe tbody tr th {\n        vertical-align: top;\n    }\n\n    .dataframe thead th {\n        text-align: right;\n    }\n</style>\n<table border=\"1\" class=\"dataframe\">\n  <thead>\n    <tr style=\"text-align: right;\">\n      <th></th>\n      <th>ID</th>\n      <th>Category</th>\n    </tr>\n  </thead>\n  <tbody>\n    <tr>\n      <th>0</th>\n      <td>174430</td>\n      <td>'Adventure'</td>\n    </tr>\n    <tr>\n      <th>0</th>\n      <td>174430</td>\n      <td>'Exploration'</td>\n    </tr>\n    <tr>\n      <th>0</th>\n      <td>174430</td>\n      <td>'Fantasy'</td>\n    </tr>\n    <tr>\n      <th>0</th>\n      <td>174430</td>\n      <td>'Fighting'</td>\n    </tr>\n    <tr>\n      <th>0</th>\n      <td>174430</td>\n      <td>'Miniatures'</td>\n    </tr>\n    <tr>\n      <th>...</th>\n      <td>...</td>\n      <td>...</td>\n    </tr>\n    <tr>\n      <th>19997</th>\n      <td>5159</td>\n      <td>'Abstract Strategy'</td>\n    </tr>\n    <tr>\n      <th>19997</th>\n      <td>5159</td>\n      <td>'Childrens Game'</td>\n    </tr>\n    <tr>\n      <th>19998</th>\n      <td>5160</td>\n      <td>'Abstract Strategy'</td>\n    </tr>\n    <tr>\n      <th>19998</th>\n      <td>5160</td>\n      <td>'Childrens Game'</td>\n    </tr>\n    <tr>\n      <th>19999</th>\n      <td>5163</td>\n      <td>'Abstract Strategy'</td>\n    </tr>\n  </tbody>\n</table>\n<p>50181 rows × 2 columns</p>\n</div>",
            "text/plain": "           ID             Category\n0      174430          'Adventure'\n0      174430        'Exploration'\n0      174430            'Fantasy'\n0      174430           'Fighting'\n0      174430         'Miniatures'\n...       ...                  ...\n19997    5159  'Abstract Strategy'\n19997    5159     'Childrens Game'\n19998    5160  'Abstract Strategy'\n19998    5160     'Childrens Game'\n19999    5163  'Abstract Strategy'\n\n[50181 rows x 2 columns]"
          },
          "execution_count": 257,
          "metadata": {},
          "output_type": "execute_result"
        }
      ],
      "source": [
        "# Filter to remove irrelevant data ( when you filter irrelvant data from the data what exaclty did you fitler out what is determine irrelant) filtered cat explain catgorize similar ones to gether \n",
        "\n",
        "filtered_cat = cat_counts[cat_counts.Category.isin(categories_to_keep)]\n",
        "filtered_cat"
      ]
    },
    {
      "cell_type": "code",
      "execution_count": 258,
      "metadata": {},
      "outputs": [
        {
          "data": {
            "text/plain": "Category\n'Card Game'                    5686\n'Wargame'                      3500\n'Fantasy'                      2361\n'Party Game'                   1723\n'Dice'                         1712\n'Fighting'                     1565\n'Abstract Strategy'            1541\n'Childrens Game'               1521\n'Science Fiction'              1495\n'Economic'                     1423\n'Bluffing'                     1136\n'World War II'                 1129\n'Animals'                      1107\n'Humor'                        1064\n'Deduction'                    1046\n'Adventure'                    1017\n'Action / Dexterity'            999\n'Movies / TV / Radio theme'     980\n'Miniatures'                    925\n'Medieval'                      888\n'Exploration'                   792\n'Racing'                        709\n'Ancient'                       697\n'Negotiation'                   636\n'Real-time'                     623\n'Horror'                        593\n'Nautical'                      575\n'Trivia'                        572\n'Sports'                        520\n'Puzzle'                        511\n'Memory'                        495\n'Political'                     487\n'City Building'                 466\n'Word Game'                     462\n'Print & Play'                  462\n'Educational'                   442\n'Novel-based'                   437\n'Territory Building'            416\n'Transportation'                361\n'Collectible Components'        342\n'Modern Warfare'                331\n'Murder/Mystery'                329\n'Civilization'                  319\n'Trains'                        318\n'Mythology'                     303\n'Pirates'                       301\n'Napoleonic'                    290\n'Comic Book / Strip'            288\n'Video Game Theme'              271\n'Industry / Manufacturing'      254\n'Aviation / Flight'             248\n'Renaissance'                   234\n'Expansion for Base-game'       229\n'Farming'                       216\n'Space Exploration'             214\n'American Civil War'            211\n'American West'                 205\n'World War I'                   198\n'Electronic'                    189\n'Travel'                        184\n'Zombies'                       175\n'Maze'                          172\n'Spies/Secret Agents'           163\n'Number'                        162\n'Environmental'                 158\n'Age of Reason'                 152\n'Mature / Adult'                134\n'Mafia'                         132\n'Prehistoric'                   132\n'Book'                          129\n'Math'                          124\ndtype: int64"
          },
          "execution_count": 258,
          "metadata": {},
          "output_type": "execute_result"
        }
      ],
      "source": [
        "# Check to make sure binning was successful\n",
        "cat_vc_check = filtered_cat.groupby(\"Category\").size().sort_values(ascending=False)\n",
        "\n",
        "cat_vc_check"
      ]
    },
    {
      "cell_type": "code",
      "execution_count": 259,
      "metadata": {},
      "outputs": [
        {
          "data": {
            "text/html": "<div>\n<style scoped>\n    .dataframe tbody tr th:only-of-type {\n        vertical-align: middle;\n    }\n\n    .dataframe tbody tr th {\n        vertical-align: top;\n    }\n\n    .dataframe thead th {\n        text-align: right;\n    }\n</style>\n<table border=\"1\" class=\"dataframe\">\n  <thead>\n    <tr style=\"text-align: right;\">\n      <th></th>\n      <th>ID</th>\n      <th>Category</th>\n    </tr>\n  </thead>\n  <tbody>\n    <tr>\n      <th>0</th>\n      <td>174430</td>\n      <td>'Adventure'</td>\n    </tr>\n    <tr>\n      <th>0</th>\n      <td>174430</td>\n      <td>'Exploration'</td>\n    </tr>\n    <tr>\n      <th>0</th>\n      <td>174430</td>\n      <td>'Fantasy'</td>\n    </tr>\n    <tr>\n      <th>0</th>\n      <td>174430</td>\n      <td>'Fighting'</td>\n    </tr>\n    <tr>\n      <th>0</th>\n      <td>174430</td>\n      <td>'Miniatures'</td>\n    </tr>\n    <tr>\n      <th>...</th>\n      <td>...</td>\n      <td>...</td>\n    </tr>\n    <tr>\n      <th>19997</th>\n      <td>5159</td>\n      <td>'Abstract Strategy'</td>\n    </tr>\n    <tr>\n      <th>19997</th>\n      <td>5159</td>\n      <td>'Childrens Game'</td>\n    </tr>\n    <tr>\n      <th>19998</th>\n      <td>5160</td>\n      <td>'Abstract Strategy'</td>\n    </tr>\n    <tr>\n      <th>19998</th>\n      <td>5160</td>\n      <td>'Childrens Game'</td>\n    </tr>\n    <tr>\n      <th>19999</th>\n      <td>5163</td>\n      <td>'Abstract Strategy'</td>\n    </tr>\n  </tbody>\n</table>\n<p>50181 rows × 2 columns</p>\n</div>",
            "text/plain": "           ID             Category\n0      174430          'Adventure'\n0      174430        'Exploration'\n0      174430            'Fantasy'\n0      174430           'Fighting'\n0      174430         'Miniatures'\n...       ...                  ...\n19997    5159  'Abstract Strategy'\n19997    5159     'Childrens Game'\n19998    5160  'Abstract Strategy'\n19998    5160     'Childrens Game'\n19999    5163  'Abstract Strategy'\n\n[50181 rows x 2 columns]"
          },
          "execution_count": 259,
          "metadata": {},
          "output_type": "execute_result"
        }
      ],
      "source": [
        "filtered_cat"
      ]
    },
    {
      "cell_type": "code",
      "execution_count": 260,
      "metadata": {},
      "outputs": [
        {
          "data": {
            "text/html": "<div>\n<style scoped>\n    .dataframe tbody tr th:only-of-type {\n        vertical-align: middle;\n    }\n\n    .dataframe tbody tr th {\n        vertical-align: top;\n    }\n\n    .dataframe thead th {\n        text-align: right;\n    }\n</style>\n<table border=\"1\" class=\"dataframe\">\n  <thead>\n    <tr style=\"text-align: right;\">\n      <th></th>\n      <th>Abstract Strategy</th>\n      <th>Action / Dexterity</th>\n      <th>Adventure</th>\n      <th>Age of Reason</th>\n      <th>American Civil War</th>\n      <th>American West</th>\n      <th>Ancient</th>\n      <th>Animals</th>\n      <th>Aviation / Flight</th>\n      <th>Bluffing</th>\n      <th>...</th>\n      <th>Trains</th>\n      <th>Transportation</th>\n      <th>Travel</th>\n      <th>Trivia</th>\n      <th>Video Game Theme</th>\n      <th>Wargame</th>\n      <th>Word Game</th>\n      <th>World War I</th>\n      <th>World War II</th>\n      <th>Zombies</th>\n    </tr>\n    <tr>\n      <th>ID</th>\n      <th></th>\n      <th></th>\n      <th></th>\n      <th></th>\n      <th></th>\n      <th></th>\n      <th></th>\n      <th></th>\n      <th></th>\n      <th></th>\n      <th></th>\n      <th></th>\n      <th></th>\n      <th></th>\n      <th></th>\n      <th></th>\n      <th></th>\n      <th></th>\n      <th></th>\n      <th></th>\n      <th></th>\n    </tr>\n  </thead>\n  <tbody>\n    <tr>\n      <th>1</th>\n      <td>0</td>\n      <td>0</td>\n      <td>0</td>\n      <td>0</td>\n      <td>0</td>\n      <td>0</td>\n      <td>0</td>\n      <td>0</td>\n      <td>0</td>\n      <td>0</td>\n      <td>...</td>\n      <td>0</td>\n      <td>0</td>\n      <td>0</td>\n      <td>0</td>\n      <td>0</td>\n      <td>0</td>\n      <td>0</td>\n      <td>0</td>\n      <td>0</td>\n      <td>0</td>\n    </tr>\n    <tr>\n      <th>2</th>\n      <td>0</td>\n      <td>0</td>\n      <td>0</td>\n      <td>0</td>\n      <td>0</td>\n      <td>0</td>\n      <td>0</td>\n      <td>0</td>\n      <td>0</td>\n      <td>0</td>\n      <td>...</td>\n      <td>0</td>\n      <td>0</td>\n      <td>0</td>\n      <td>0</td>\n      <td>0</td>\n      <td>0</td>\n      <td>0</td>\n      <td>0</td>\n      <td>0</td>\n      <td>0</td>\n    </tr>\n    <tr>\n      <th>3</th>\n      <td>1</td>\n      <td>0</td>\n      <td>0</td>\n      <td>0</td>\n      <td>0</td>\n      <td>0</td>\n      <td>0</td>\n      <td>0</td>\n      <td>0</td>\n      <td>0</td>\n      <td>...</td>\n      <td>0</td>\n      <td>0</td>\n      <td>0</td>\n      <td>0</td>\n      <td>0</td>\n      <td>0</td>\n      <td>0</td>\n      <td>0</td>\n      <td>0</td>\n      <td>0</td>\n    </tr>\n    <tr>\n      <th>4</th>\n      <td>0</td>\n      <td>0</td>\n      <td>0</td>\n      <td>0</td>\n      <td>0</td>\n      <td>0</td>\n      <td>1</td>\n      <td>0</td>\n      <td>0</td>\n      <td>0</td>\n      <td>...</td>\n      <td>0</td>\n      <td>0</td>\n      <td>0</td>\n      <td>0</td>\n      <td>0</td>\n      <td>0</td>\n      <td>0</td>\n      <td>0</td>\n      <td>0</td>\n      <td>0</td>\n    </tr>\n    <tr>\n      <th>5</th>\n      <td>0</td>\n      <td>0</td>\n      <td>0</td>\n      <td>0</td>\n      <td>0</td>\n      <td>0</td>\n      <td>0</td>\n      <td>0</td>\n      <td>0</td>\n      <td>0</td>\n      <td>...</td>\n      <td>0</td>\n      <td>0</td>\n      <td>0</td>\n      <td>0</td>\n      <td>0</td>\n      <td>0</td>\n      <td>0</td>\n      <td>0</td>\n      <td>0</td>\n      <td>0</td>\n    </tr>\n    <tr>\n      <th>...</th>\n      <td>...</td>\n      <td>...</td>\n      <td>...</td>\n      <td>...</td>\n      <td>...</td>\n      <td>...</td>\n      <td>...</td>\n      <td>...</td>\n      <td>...</td>\n      <td>...</td>\n      <td>...</td>\n      <td>...</td>\n      <td>...</td>\n      <td>...</td>\n      <td>...</td>\n      <td>...</td>\n      <td>...</td>\n      <td>...</td>\n      <td>...</td>\n      <td>...</td>\n      <td>...</td>\n    </tr>\n    <tr>\n      <th>292961</th>\n      <td>0</td>\n      <td>0</td>\n      <td>0</td>\n      <td>0</td>\n      <td>0</td>\n      <td>0</td>\n      <td>0</td>\n      <td>0</td>\n      <td>0</td>\n      <td>1</td>\n      <td>...</td>\n      <td>0</td>\n      <td>0</td>\n      <td>0</td>\n      <td>0</td>\n      <td>0</td>\n      <td>0</td>\n      <td>0</td>\n      <td>0</td>\n      <td>0</td>\n      <td>0</td>\n    </tr>\n    <tr>\n      <th>292962</th>\n      <td>0</td>\n      <td>0</td>\n      <td>0</td>\n      <td>0</td>\n      <td>0</td>\n      <td>0</td>\n      <td>0</td>\n      <td>0</td>\n      <td>0</td>\n      <td>1</td>\n      <td>...</td>\n      <td>0</td>\n      <td>0</td>\n      <td>0</td>\n      <td>0</td>\n      <td>0</td>\n      <td>0</td>\n      <td>0</td>\n      <td>0</td>\n      <td>0</td>\n      <td>0</td>\n    </tr>\n    <tr>\n      <th>294612</th>\n      <td>0</td>\n      <td>0</td>\n      <td>0</td>\n      <td>0</td>\n      <td>0</td>\n      <td>0</td>\n      <td>0</td>\n      <td>0</td>\n      <td>0</td>\n      <td>0</td>\n      <td>...</td>\n      <td>0</td>\n      <td>0</td>\n      <td>0</td>\n      <td>0</td>\n      <td>0</td>\n      <td>0</td>\n      <td>0</td>\n      <td>0</td>\n      <td>0</td>\n      <td>0</td>\n    </tr>\n    <tr>\n      <th>294693</th>\n      <td>0</td>\n      <td>0</td>\n      <td>0</td>\n      <td>0</td>\n      <td>0</td>\n      <td>0</td>\n      <td>0</td>\n      <td>0</td>\n      <td>0</td>\n      <td>0</td>\n      <td>...</td>\n      <td>0</td>\n      <td>0</td>\n      <td>0</td>\n      <td>0</td>\n      <td>0</td>\n      <td>0</td>\n      <td>0</td>\n      <td>0</td>\n      <td>0</td>\n      <td>0</td>\n    </tr>\n    <tr>\n      <th>295770</th>\n      <td>0</td>\n      <td>0</td>\n      <td>1</td>\n      <td>0</td>\n      <td>0</td>\n      <td>0</td>\n      <td>0</td>\n      <td>0</td>\n      <td>0</td>\n      <td>0</td>\n      <td>...</td>\n      <td>0</td>\n      <td>0</td>\n      <td>0</td>\n      <td>0</td>\n      <td>0</td>\n      <td>0</td>\n      <td>0</td>\n      <td>0</td>\n      <td>0</td>\n      <td>0</td>\n    </tr>\n  </tbody>\n</table>\n<p>19705 rows × 71 columns</p>\n</div>",
            "text/plain": "        Abstract Strategy  Action / Dexterity  Adventure  Age of Reason  \\\nID                                                                        \n1                       0                   0          0              0   \n2                       0                   0          0              0   \n3                       1                   0          0              0   \n4                       0                   0          0              0   \n5                       0                   0          0              0   \n...                   ...                 ...        ...            ...   \n292961                  0                   0          0              0   \n292962                  0                   0          0              0   \n294612                  0                   0          0              0   \n294693                  0                   0          0              0   \n295770                  0                   0          1              0   \n\n        American Civil War  American West  Ancient  Animals  \\\nID                                                            \n1                        0              0        0        0   \n2                        0              0        0        0   \n3                        0              0        0        0   \n4                        0              0        1        0   \n5                        0              0        0        0   \n...                    ...            ...      ...      ...   \n292961                   0              0        0        0   \n292962                   0              0        0        0   \n294612                   0              0        0        0   \n294693                   0              0        0        0   \n295770                   0              0        0        0   \n\n        Aviation / Flight  Bluffing  ...  Trains  Transportation  Travel  \\\nID                                   ...                                   \n1                       0         0  ...       0               0       0   \n2                       0         0  ...       0               0       0   \n3                       0         0  ...       0               0       0   \n4                       0         0  ...       0               0       0   \n5                       0         0  ...       0               0       0   \n...                   ...       ...  ...     ...             ...     ...   \n292961                  0         1  ...       0               0       0   \n292962                  0         1  ...       0               0       0   \n294612                  0         0  ...       0               0       0   \n294693                  0         0  ...       0               0       0   \n295770                  0         0  ...       0               0       0   \n\n        Trivia  Video Game Theme  Wargame  Word Game  World War I  \\\nID                                                                  \n1            0                 0        0          0            0   \n2            0                 0        0          0            0   \n3            0                 0        0          0            0   \n4            0                 0        0          0            0   \n5            0                 0        0          0            0   \n...        ...               ...      ...        ...          ...   \n292961       0                 0        0          0            0   \n292962       0                 0        0          0            0   \n294612       0                 0        0          0            0   \n294693       0                 0        0          0            0   \n295770       0                 0        0          0            0   \n\n        World War II  Zombies  \nID                             \n1                  0        0  \n2                  0        0  \n3                  0        0  \n4                  0        0  \n5                  0        0  \n...              ...      ...  \n292961             0        0  \n292962             0        0  \n294612             0        0  \n294693             0        0  \n295770             0        0  \n\n[19705 rows x 71 columns]"
          },
          "execution_count": 260,
          "metadata": {},
          "output_type": "execute_result"
        }
      ],
      "source": [
        "# id colomns are 1 - 200000  will it be affected if it is not in ocrraltion with game id why is the id being grouped in cat final \n",
        "cat_dummies = pd.get_dummies(filtered_cat, prefix = \"\", prefix_sep=\"\")\n",
        "cat_dummies.columns = cat_dummies.columns.str.replace(\"'\",\"\")\n",
        "\n",
        "cat_final = cat_dummies.groupby(\"ID\").sum()\n",
        "cat_final"
      ]
    },
    {
      "cell_type": "code",
      "execution_count": 261,
      "metadata": {},
      "outputs": [
        {
          "data": {
            "text/plain": "Index(['Abstract Strategy', 'Action / Dexterity', 'Adventure', 'Age of Reason',\n       'American Civil War', 'American West', 'Ancient', 'Animals',\n       'Aviation / Flight', 'Bluffing', 'Book', 'Card Game', 'Childrens Game',\n       'City Building', 'Civilization', 'Collectible Components',\n       'Comic Book / Strip', 'Deduction', 'Dice', 'Economic', 'Educational',\n       'Electronic', 'Environmental', 'Expansion for Base-game', 'Exploration',\n       'Fantasy', 'Farming', 'Fighting', 'Horror', 'Humor',\n       'Industry / Manufacturing', 'Mafia', 'Math', 'Mature / Adult', 'Maze',\n       'Medieval', 'Memory', 'Miniatures', 'Modern Warfare',\n       'Movies / TV / Radio theme', 'Murder/Mystery', 'Mythology',\n       'Napoleonic', 'Nautical', 'Negotiation', 'Novel-based', 'Number',\n       'Party Game', 'Pirates', 'Political', 'Prehistoric', 'Print & Play',\n       'Puzzle', 'Racing', 'Real-time', 'Renaissance', 'Science Fiction',\n       'Space Exploration', 'Spies/Secret Agents', 'Sports',\n       'Territory Building', 'Trains', 'Transportation', 'Travel', 'Trivia',\n       'Video Game Theme', 'Wargame', 'Word Game', 'World War I',\n       'World War II', 'Zombies'],\n      dtype='object')"
          },
          "execution_count": 261,
          "metadata": {},
          "output_type": "execute_result"
        }
      ],
      "source": [
        "cat_final.columns"
      ]
    },
    {
      "cell_type": "code",
      "execution_count": 262,
      "metadata": {},
      "outputs": [
        {
          "data": {
            "text/plain": "Mechanic\n'Dice Rolling'                                                       4461\n'Hand Management'                                                    3810\n'Set Collection'                                                     2532\n'Hexagon Grid'                                                       2132\n'Variable Player Powers'                                             2071\n'Card Drafting'                                                      1571\n'Tile Placement'                                                     1559\n'Roll / Spin and Move'                                               1526\n'Modular Board'                                                      1499\n'Area Majority / Influence'                                          1364\n'Cooperative Game'                                                   1201\n'Simulation'                                                         1088\n'Simultaneous Action Selection'                                      1053\n'Auction/Bidding'                                                    1044\n'Action Points'                                                      1011\n'Area Movement'                                                      1001\n'Memory'                                                              848\n'Team-Based Game'                                                     811\n'Grid Movement'                                                       811\n'Take That'                                                           783\n'Point to Point Movement'                                             768\n'Push Your Luck'                                                      720\n'Pattern Building'                                                    701\n'Deck'                                                                631\n'Worker Placement'                                                    626\n'Card Game'                                                           612\n'Trading'                                                             587\n'Player Elimination'                                                  559\n'Secret Unit Deployment'                                              552\n'Pick-up and Deliver'                                                 544\n'Role Playing'                                                        513\n'Network and Route Building'                                          496\n'Campaign / Battle Card Driven'                                       494\n'Pattern Recognition'                                                 473\n'Betting and Bluffing'                                                406\n'Storytelling'                                                        377\n'Voting'                                                              376\n'Action Queue'                                                        363\n'Trick-taking'                                                        361\n'Action / Dexterity'                                                  339\n'Paper-and-Pencil'                                                    315\n'Party Game'                                                          293\n'Stock Holding'                                                       288\n'Commodity Speculation'                                               261\n'Variable Phase Order'                                                249\n'Childrens Game'                                                      245\n'Chit-Pull System'                                                    220\n'Abstract Strategy'                                                   219\n'Acting'                                                              212\n'Enclosure'                                                           191\n'Trivia'                                                              172\n'Rock-Paper-Scissors'                                                 150\n'Word Game'                                                           147\n'Solo / Solitaire Game'                                               138\n'Line Drawing'                                                        132\n'Fantasy'                                                             115\n'Movies / TV / Radio theme'                                           111\n'Deduction'                                                           110\n'Wargame'                                                             109\n'Area-Impulse'                                                         99\n'Time Track'                                                           96\n'Animals'                                                              93\n'Humor'                                                                88\n'Sports'                                                               83\n'Racing'                                                               80\n'Bluffing'                                                             80\n'Real-time'                                                            69\n'Dice'                                                                 68\n'Science Fiction'                                                      68\n'Puzzle'                                                               64\n'Fighting'                                                             62\n'Collectible Components'                                               62\n'Educational'                                                          57\n'Communication Limits'                                                 54\n'Singing'                                                              46\n'Adventure'                                                            44\n'Traitor Game'                                                         43\n'Electronic'                                                           41\n'Race'                                                                 40\n'Economic'                                                             38\n'Medieval'                                                             37\n'Murder/Mystery'                                                       36\n'Miniatures'                                                           36\n'Political'                                                            34\n'End Game Bonuses'                                                     32\n'Ancient'                                                              31\n'Novel-based'                                                          30\n'Rondel'                                                               30\n'Flicking'                                                             27\n'Mancala'                                                              27\n'Horror'                                                               27\n'Crayon Rail System'                                                   26\n'Market'                                                               26\n'Contracts'                                                            24\n'Exploration'                                                          24\n'Pirates'                                                              23\n'Nautical'                                                             23\n'Comic Book / Strip'                                                   22\n'Book'                                                                 22\n'Expansion for Base-game'                                              22\n'Income'                                                               22\n'Ownership'                                                            21\n'Drafting'                                                             21\n'Negotiation'                                                          20\n'I Cut'                                                                20\n'World War II'                                                         19\n'Events'                                                               19\n'Real-Time'                                                            18\n'Legacy Game'                                                          17\n'Video Game Theme'                                                     17\n'Square Grid'                                                          17\n'Scenario / Mission / Campaign Game'                                   16\n'Hidden Movement'                                                      16\n'American West'                                                        15\n'Mythology'                                                            15\n'Grid Coverage'                                                        14\n'City Building'                                                        14\n'Increase Value of Unchosen Resources'                                 14\n'Investment'                                                           14\n'Mature / Adult'                                                       14\n'Maze'                                                                 13\n'Action Drafting'                                                      13\n'Trains'                                                               13\n'Hidden Roles'                                                         13\n'Worker Placement with Dice Workers'                                   13\n'Stacking and Balancing'                                               13\n'Print & Play'                                                         13\n'Mafia'                                                                12\n'Variable Setup'                                                       12\n'Highest-Lowest Scoring'                                               12\n'Turn Order: Stat-Based'                                               12\n'Measurement Movement'                                                 12\n'Game System'                                                          11\n'Number'                                                               11\n'Aviation / Flight'                                                    11\n'Transportation'                                                       11\n'Turn Order: Progressive'                                              11\n'Math'                                                                 10\n'Loans'                                                                10\n'Follow'                                                               10\n'Command Cards'                                                        10\n'Elapsed Real Time Ending'                                             10\n'Melding and Splaying'                                                 10\n'Modern Warfare'                                                        9\n'Automatic Resource Growth'                                             9\n'Auction: Turn Order Until Pass'                                        9\n'Music'                                                                 9\n'Narrative Choice / Paragraph'                                          9\n'Action Retrieval'                                                      9\n'Critical Hits and Failures'                                            9\n'Territory Building'                                                    8\n'Turn Order: Claim Action'                                              8\n'Alliances'                                                             8\n'Score-and-Reset Game'                                                  8\n'Map Addition'                                                          8\n'Travel'                                                                8\n'Roles with Asymmetric Information'                                     8\n'Map Reduction'                                                         7\n'Line of Sight'                                                         7\n'Card Play Conflict Resolution'                                         7\n'Move Through Deck'                                                     7\n'Multiple Maps'                                                         7\n'Advantage Token'                                                       7\n'Bias'                                                                  7\n'Renaissance'                                                           7\n'Single Loser Game'                                                     7\n'Spies/Secret Agents'                                                   7\n'Action/Event'                                                          7\n'Targeted Clues'                                                        7\n'Catch the Leader'                                                      7\n'Farming'                                                               6\n'Ladder Climbing'                                                       6\n'Civilization'                                                          6\n'Once-Per-Game Abilities'                                               6\n'Turn Order: Pass Order'                                                6\n'Movement Points'                                                       6\n'Semi-Cooperative Game'                                                 6\n'Napoleonic'                                                            6\n'Stat Check Resolution'                                                 6\n'Auction: Dutch'                                                        5\n'Space Exploration'                                                     5\n'Order Counters'                                                        5\n'Prehistoric'                                                           5\n'Religious'                                                             5\n'Sudden Death Ending'                                                   5\n'Tech Trees / Tech Tracks'                                              5\n'Action Timer'                                                          5\n'Die Icon Resolution'                                                   5\n'Track Movement'                                                        5\n'Zombies'                                                               5\n'(Unknown)'                                                             5\n'Historien Spiele Galerie (Historien Spielegalerie)'                    5\n'Map Deformation'                                                       5\n'Resource to Move'                                                      4\n'Kill Steal'                                                            4\n'Schmidt Spiele'                                                        4\n'Industry / Manufacturing'                                              4\n'Moving Multiple Units'                                                 4\n'Re-rolling and Locking'                                                4\n'American Revolutionary War'                                            4\n'Static Capture'                                                        4\n'Auction: Sealed Bid'                                                   4\n'KOSMOS'                                                                4\n'Prisoners Dilemma'                                                     4\n'Different Dice Movement'                                               4\n'Constrained Bidding'                                                   4\n'Minimap Resolution'                                                    4\n'Player Judge'                                                          4\n'Tug of War'                                                            4\n'Auction: Once Around'                                                  4\n'Cube Tower'                                                            4\n'Arabian'                                                               4\n'Hidden Victory Points'                                                 4\n'American Civil War'                                                    4\n'Three Dimensional Movement'                                            3\n'King of the Hill'                                                      3\n'Jumbo'                                                                 3\n'Age of Reason'                                                         3\n'Chaining'                                                              3\n'Turn Order: Random'                                                    3\n'Medical'                                                               3\n'Connections'                                                           3\n'Victory Points as a Resource'                                          3\n'World War I'                                                           3\n'Auction: Dutch Priority'                                               3\n'Impulse Movement'                                                      3\n'Force Commitment'                                                      3\n'Bribery'                                                               3\n'Ratio / Combat Results Table'                                          3\n'Programmed Movement'                                                   3\n'Piatnik'                                                               3\n'Post-Napoleonic'                                                       3\n'Pieces as Map'                                                         2\n'Movement Template'                                                     2\n'Turn Order: Role Order'                                                2\n'Pattern Movement'                                                      2\n'Turn Order: Auction'                                                   2\n'Hasbro'                                                                2\n'Delayed Purchase'                                                      2\n'Zone of Control'                                                       2\n'Auction: Fixed Placement'                                              2\n'Auction: Dexterity'                                                    2\n'Splotter Spellen'                                                      2\n'Environmental'                                                         2\n'Relative Movement'                                                     2\n'Finale Ending'                                                         2\n'(Web published)'                                                       1\n'AMIGO'                                                                 1\n'(Unpublished)'                                                         1\n'Auction: English'                                                      1\n'2013 Kinderspielexperten 8-to-13-year-olds Nominee'                    1\n'Civil War'                                                             1\n'ASS Altenburger Spielkarten'                                           1\n'Adlung-Spiele'                                                         1\n'Alga'                                                                  1\n'Buki Toys'                                                             1\n'American Indian Wars'                                                  1\n'Borras Plana S.A.'                                                     1\n'Blue Orange (EU)'                                                      1\n'Bananagrams'                                                           1\n'Awesome Games'                                                         1\n'Asobition (u30a2u30bdu30d3u30b7u30e7u30f3)'                            1\n'u65b0u30dcu30fcu30c9u30b2u30fcu30e0u515a (New Board Game Party)'       1\n'Clementoni'                                                            1\n'Tasty Minstrel Games'                                                  1\n'Physical Removal'                                                      1\n'Quick Simple Fun Games'                                                1\n'R&R Games'                                                             1\n'Rachat'                                                                1\n'Ravensburger Spieleverlag GmbH'                                        1\n'Renegade Game Studios'                                                 1\n'Schleef/Jacobsen'                                                      1\n'Selection Order Bid'                                                   1\n'Spears Games'                                                          1\n'Sphinx Spieleverlag'                                                   1\n'Steve Jackson Games'                                                   1\n'Super Game Company'                                                    1\n'Tactic'                                                                1\n'The Avalon Hill Game Co'                                               1\n'Noris Spiele'                                                          1\n'The Broken Token'                                                      1\n'The Toy Company Argentina S.R.L.'                                      1\n'Theta'                                                                 1\n'Thomas Sackl Spiele'                                                   1\n'Those Darn Games!'                                                     1\n'Trefl Joker Line'                                                      1\n'Trefl'                                                                 1\n'University Games'                                                      1\n'Vietnam War'                                                           1\n'White Goblin Games'                                                    1\n'Zoch Verlag'                                                           1\n'Zvezda'                                                                1\n'db-Spiele'                                                             1\n'Passed Action Token'                                                   1\n'Moskito Spiele'                                                        1\n'Closed Economy Auction'                                                1\n'GoccoGames'                                                            1\n'Coldicutt Games'                                                       1\n'Cube Factory of Ideas'                                                 1\n'Daedalus Productions'                                                  1\n'Edition Erlku00f6nig'                                                  1\n'Edition Perlhuhn (Gu00f6ttinger Spiele)'                               1\n'Elemental Designer Games'                                              1\n'F.X. Schmid'                                                           1\n'Family Fun & Learning Company'                                         1\n'Freie Spiel'                                                           1\n'G&RRR'                                                                 1\n'Gale Force Nine'                                                       1\n'Game Factory'                                                          1\n'Games Workshop Ltd.'                                                   1\n'Greenbrier Games'                                                      1\n'Mayday Games'                                                          1\n'Head Quarter Simulation Game Club'                                     1\n'Heidelberger Spieleverlag'                                             1\n'Idea Development Company (IDEVCO)'                                     1\n'Jasco Games'                                                           1\n'Jeux Opla'                                                             1\n'Jouets Bo-Jeux Toys'                                                   1\n'Koku00f6ru00een Kolorado'                                              1\n'Korea Boardgames co.'                                                  1\n'LA Producers Partnership'                                              1\n'Level 99 Games'                                                        1\n'Looney Labs'                                                           1\n'Lose a Turn'                                                           1\n'franjos Spieleverlag'                                                  1\n'(Self-Published)'                                                      1\ndtype: int64"
          },
          "execution_count": 262,
          "metadata": {},
          "output_type": "execute_result"
        }
      ],
      "source": [
        "pd.set_option('display.max_rows', 500)\n",
        "\n",
        "mech_counts = mechanics_df.explode('Mechanic')\n",
        "mech_vc = mech_counts.groupby(\"Mechanic\").size().sort_values(ascending=False)\n",
        "mech_vc\n"
      ]
    },
    {
      "cell_type": "code",
      "execution_count": 264,
      "metadata": {},
      "outputs": [],
      "source": [
        "mech_types_to_keep = mech_vc[mech_vc > 175].index\n",
        "\n",
        "# Filter to remove irrelevant data\n",
        "filtered_mech = mech_counts[mech_counts.Mechanic.isin(mech_types_to_keep)]\n",
        "filtered_mech\n",
        "\n",
        "# # Check to make sure binning was successful\n",
        "mech_vc_check = filtered_mech.groupby(\"Mechanic\").size().sort_values(ascending=False)\n",
        "\n",
        "mech_dummies = pd.get_dummies(filtered_mech, prefix = \"\", prefix_sep=\"\")\n",
        "mech_dummies.columns = mech_dummies.columns.str.replace(\"'\",\"\")\n",
        "\n",
        "mech_final = mech_dummies.groupby(\"ID\").sum()"
      ]
    },
    {
      "cell_type": "code",
      "execution_count": 265,
      "metadata": {},
      "outputs": [
        {
          "data": {
            "text/plain": "Mechanic\n'Dice Rolling'                     4461\n'Hand Management'                  3810\n'Set Collection'                   2532\n'Hexagon Grid'                     2132\n'Variable Player Powers'           2071\n'Card Drafting'                    1571\n'Tile Placement'                   1559\n'Roll / Spin and Move'             1526\n'Modular Board'                    1499\n'Area Majority / Influence'        1364\n'Cooperative Game'                 1201\n'Simulation'                       1088\n'Simultaneous Action Selection'    1053\n'Auction/Bidding'                  1044\n'Action Points'                    1011\n'Area Movement'                    1001\n'Memory'                            848\n'Grid Movement'                     811\n'Team-Based Game'                   811\n'Take That'                         783\n'Point to Point Movement'           768\n'Push Your Luck'                    720\n'Pattern Building'                  701\n'Deck'                              631\n'Worker Placement'                  626\n'Card Game'                         612\n'Trading'                           587\n'Player Elimination'                559\n'Secret Unit Deployment'            552\n'Pick-up and Deliver'               544\n'Role Playing'                      513\n'Network and Route Building'        496\n'Campaign / Battle Card Driven'     494\n'Pattern Recognition'               473\n'Betting and Bluffing'              406\n'Storytelling'                      377\n'Voting'                            376\n'Action Queue'                      363\n'Trick-taking'                      361\n'Action / Dexterity'                339\n'Paper-and-Pencil'                  315\n'Party Game'                        293\n'Stock Holding'                     288\n'Commodity Speculation'             261\n'Variable Phase Order'              249\n'Childrens Game'                    245\n'Chit-Pull System'                  220\n'Abstract Strategy'                 219\n'Acting'                            212\n'Enclosure'                         191\ndtype: int64"
          },
          "execution_count": 265,
          "metadata": {},
          "output_type": "execute_result"
        }
      ],
      "source": [
        "mech_vc_check"
      ]
    },
    {
      "cell_type": "code",
      "execution_count": 266,
      "metadata": {},
      "outputs": [],
      "source": [
        "# Merge all 3 dataframes with get_dummies columns, add suffixes as needed ** when its merged will it be affected that the gmae ids dont align  are they going off of game caetogies wouldnt that affect the \n",
        "\n",
        "dfs_to_merge = [boardgame_trunc, cat_final, mech_final]\n",
        "\n",
        "boardgame_inter = pd.merge(boardgame_trunc, cat_final, on=\"ID\", how='outer')\n",
        "boardgame_final = pd.merge(boardgame_inter, mech_final, on=\"ID\", how='outer', suffixes=(\"_Category\",\"_Mechanic\"))"
      ]
    },
    {
      "cell_type": "code",
      "execution_count": 267,
      "metadata": {},
      "outputs": [
        {
          "data": {
            "text/html": "<div>\n<style scoped>\n    .dataframe tbody tr th:only-of-type {\n        vertical-align: middle;\n    }\n\n    .dataframe tbody tr th {\n        vertical-align: top;\n    }\n\n    .dataframe thead th {\n        text-align: right;\n    }\n</style>\n<table border=\"1\" class=\"dataframe\">\n  <thead>\n    <tr style=\"text-align: right;\">\n      <th></th>\n      <th>ID</th>\n      <th>Name</th>\n      <th>Avg Rating</th>\n      <th>Complexity</th>\n      <th>Abstract Strategy_Category</th>\n      <th>Action / Dexterity_Category</th>\n      <th>Adventure</th>\n      <th>Age of Reason</th>\n      <th>American Civil War</th>\n      <th>American West</th>\n      <th>...</th>\n      <th>Storytelling</th>\n      <th>Take That</th>\n      <th>Team-Based Game</th>\n      <th>Tile Placement</th>\n      <th>Trading</th>\n      <th>Trick-taking</th>\n      <th>Variable Phase Order</th>\n      <th>Variable Player Powers</th>\n      <th>Voting</th>\n      <th>Worker Placement</th>\n    </tr>\n  </thead>\n  <tbody>\n    <tr>\n      <th>0</th>\n      <td>174430</td>\n      <td>Gloomhaven</td>\n      <td>8.85292</td>\n      <td>3.8078</td>\n      <td>0.0</td>\n      <td>0.0</td>\n      <td>1.0</td>\n      <td>0.0</td>\n      <td>0.0</td>\n      <td>0.0</td>\n      <td>...</td>\n      <td>0.0</td>\n      <td>0.0</td>\n      <td>0.0</td>\n      <td>0.0</td>\n      <td>0.0</td>\n      <td>0.0</td>\n      <td>0.0</td>\n      <td>0.0</td>\n      <td>0.0</td>\n      <td>0.0</td>\n    </tr>\n    <tr>\n      <th>1</th>\n      <td>161936</td>\n      <td>Pandemic Legacy  Season 1</td>\n      <td>8.62499</td>\n      <td>2.8301</td>\n      <td>0.0</td>\n      <td>0.0</td>\n      <td>0.0</td>\n      <td>0.0</td>\n      <td>0.0</td>\n      <td>0.0</td>\n      <td>...</td>\n      <td>0.0</td>\n      <td>0.0</td>\n      <td>0.0</td>\n      <td>0.0</td>\n      <td>0.0</td>\n      <td>0.0</td>\n      <td>0.0</td>\n      <td>0.0</td>\n      <td>0.0</td>\n      <td>0.0</td>\n    </tr>\n    <tr>\n      <th>2</th>\n      <td>167791</td>\n      <td>Terraforming Mars</td>\n      <td>8.42299</td>\n      <td>3.2313</td>\n      <td>0.0</td>\n      <td>0.0</td>\n      <td>0.0</td>\n      <td>0.0</td>\n      <td>0.0</td>\n      <td>0.0</td>\n      <td>...</td>\n      <td>0.0</td>\n      <td>1.0</td>\n      <td>0.0</td>\n      <td>0.0</td>\n      <td>0.0</td>\n      <td>0.0</td>\n      <td>0.0</td>\n      <td>0.0</td>\n      <td>0.0</td>\n      <td>0.0</td>\n    </tr>\n    <tr>\n      <th>3</th>\n      <td>182028</td>\n      <td>Through the Ages  A New Story of Civilization</td>\n      <td>8.49419</td>\n      <td>4.3850</td>\n      <td>0.0</td>\n      <td>0.0</td>\n      <td>0.0</td>\n      <td>0.0</td>\n      <td>0.0</td>\n      <td>0.0</td>\n      <td>...</td>\n      <td>0.0</td>\n      <td>0.0</td>\n      <td>0.0</td>\n      <td>0.0</td>\n      <td>0.0</td>\n      <td>0.0</td>\n      <td>0.0</td>\n      <td>0.0</td>\n      <td>0.0</td>\n      <td>0.0</td>\n    </tr>\n    <tr>\n      <th>4</th>\n      <td>224517</td>\n      <td>Brass  Birmingham</td>\n      <td>8.62031</td>\n      <td>3.9122</td>\n      <td>0.0</td>\n      <td>0.0</td>\n      <td>0.0</td>\n      <td>0.0</td>\n      <td>0.0</td>\n      <td>0.0</td>\n      <td>...</td>\n      <td>0.0</td>\n      <td>0.0</td>\n      <td>0.0</td>\n      <td>0.0</td>\n      <td>0.0</td>\n      <td>0.0</td>\n      <td>0.0</td>\n      <td>0.0</td>\n      <td>0.0</td>\n      <td>0.0</td>\n    </tr>\n    <tr>\n      <th>...</th>\n      <td>...</td>\n      <td>...</td>\n      <td>...</td>\n      <td>...</td>\n      <td>...</td>\n      <td>...</td>\n      <td>...</td>\n      <td>...</td>\n      <td>...</td>\n      <td>...</td>\n      <td>...</td>\n      <td>...</td>\n      <td>...</td>\n      <td>...</td>\n      <td>...</td>\n      <td>...</td>\n      <td>...</td>\n      <td>...</td>\n      <td>...</td>\n      <td>...</td>\n      <td>...</td>\n    </tr>\n    <tr>\n      <th>19995</th>\n      <td>5154</td>\n      <td>Franchise</td>\n      <td>6.00000</td>\n      <td>0.0000</td>\n      <td>0.0</td>\n      <td>0.0</td>\n      <td>0.0</td>\n      <td>0.0</td>\n      <td>0.0</td>\n      <td>0.0</td>\n      <td>...</td>\n      <td>0.0</td>\n      <td>0.0</td>\n      <td>0.0</td>\n      <td>0.0</td>\n      <td>1.0</td>\n      <td>0.0</td>\n      <td>0.0</td>\n      <td>0.0</td>\n      <td>0.0</td>\n      <td>0.0</td>\n    </tr>\n    <tr>\n      <th>19996</th>\n      <td>5158</td>\n      <td>Punto y Raya</td>\n      <td>4.00000</td>\n      <td>0.0000</td>\n      <td>1.0</td>\n      <td>0.0</td>\n      <td>0.0</td>\n      <td>0.0</td>\n      <td>0.0</td>\n      <td>0.0</td>\n      <td>...</td>\n      <td>0.0</td>\n      <td>0.0</td>\n      <td>0.0</td>\n      <td>0.0</td>\n      <td>0.0</td>\n      <td>0.0</td>\n      <td>0.0</td>\n      <td>0.0</td>\n      <td>0.0</td>\n      <td>0.0</td>\n    </tr>\n    <tr>\n      <th>19997</th>\n      <td>5159</td>\n      <td>3 Up</td>\n      <td>6.00000</td>\n      <td>0.0000</td>\n      <td>1.0</td>\n      <td>0.0</td>\n      <td>0.0</td>\n      <td>0.0</td>\n      <td>0.0</td>\n      <td>0.0</td>\n      <td>...</td>\n      <td>0.0</td>\n      <td>0.0</td>\n      <td>0.0</td>\n      <td>0.0</td>\n      <td>0.0</td>\n      <td>0.0</td>\n      <td>0.0</td>\n      <td>0.0</td>\n      <td>0.0</td>\n      <td>0.0</td>\n    </tr>\n    <tr>\n      <th>19998</th>\n      <td>5160</td>\n      <td>Dino-Checkers</td>\n      <td>5.77500</td>\n      <td>0.0000</td>\n      <td>1.0</td>\n      <td>0.0</td>\n      <td>0.0</td>\n      <td>0.0</td>\n      <td>0.0</td>\n      <td>0.0</td>\n      <td>...</td>\n      <td>0.0</td>\n      <td>0.0</td>\n      <td>0.0</td>\n      <td>0.0</td>\n      <td>0.0</td>\n      <td>0.0</td>\n      <td>0.0</td>\n      <td>0.0</td>\n      <td>0.0</td>\n      <td>0.0</td>\n    </tr>\n    <tr>\n      <th>19999</th>\n      <td>5163</td>\n      <td>Obsession</td>\n      <td>4.60000</td>\n      <td>2.0000</td>\n      <td>1.0</td>\n      <td>0.0</td>\n      <td>0.0</td>\n      <td>0.0</td>\n      <td>0.0</td>\n      <td>0.0</td>\n      <td>...</td>\n      <td>0.0</td>\n      <td>0.0</td>\n      <td>0.0</td>\n      <td>0.0</td>\n      <td>0.0</td>\n      <td>0.0</td>\n      <td>0.0</td>\n      <td>0.0</td>\n      <td>0.0</td>\n      <td>0.0</td>\n    </tr>\n  </tbody>\n</table>\n<p>19058 rows × 125 columns</p>\n</div>",
            "text/plain": "           ID                                           Name  Avg Rating  \\\n0      174430                                     Gloomhaven     8.85292   \n1      161936                      Pandemic Legacy  Season 1     8.62499   \n2      167791                              Terraforming Mars     8.42299   \n3      182028  Through the Ages  A New Story of Civilization     8.49419   \n4      224517                              Brass  Birmingham     8.62031   \n...       ...                                            ...         ...   \n19995    5154                                      Franchise     6.00000   \n19996    5158                                   Punto y Raya     4.00000   \n19997    5159                                           3 Up     6.00000   \n19998    5160                                  Dino-Checkers     5.77500   \n19999    5163                                      Obsession     4.60000   \n\n       Complexity  Abstract Strategy_Category  Action / Dexterity_Category  \\\n0          3.8078                         0.0                          0.0   \n1          2.8301                         0.0                          0.0   \n2          3.2313                         0.0                          0.0   \n3          4.3850                         0.0                          0.0   \n4          3.9122                         0.0                          0.0   \n...           ...                         ...                          ...   \n19995      0.0000                         0.0                          0.0   \n19996      0.0000                         1.0                          0.0   \n19997      0.0000                         1.0                          0.0   \n19998      0.0000                         1.0                          0.0   \n19999      2.0000                         1.0                          0.0   \n\n       Adventure  Age of Reason  American Civil War  American West  ...  \\\n0            1.0            0.0                 0.0            0.0  ...   \n1            0.0            0.0                 0.0            0.0  ...   \n2            0.0            0.0                 0.0            0.0  ...   \n3            0.0            0.0                 0.0            0.0  ...   \n4            0.0            0.0                 0.0            0.0  ...   \n...          ...            ...                 ...            ...  ...   \n19995        0.0            0.0                 0.0            0.0  ...   \n19996        0.0            0.0                 0.0            0.0  ...   \n19997        0.0            0.0                 0.0            0.0  ...   \n19998        0.0            0.0                 0.0            0.0  ...   \n19999        0.0            0.0                 0.0            0.0  ...   \n\n       Storytelling  Take That  Team-Based Game  Tile Placement  Trading  \\\n0               0.0        0.0              0.0             0.0      0.0   \n1               0.0        0.0              0.0             0.0      0.0   \n2               0.0        1.0              0.0             0.0      0.0   \n3               0.0        0.0              0.0             0.0      0.0   \n4               0.0        0.0              0.0             0.0      0.0   \n...             ...        ...              ...             ...      ...   \n19995           0.0        0.0              0.0             0.0      1.0   \n19996           0.0        0.0              0.0             0.0      0.0   \n19997           0.0        0.0              0.0             0.0      0.0   \n19998           0.0        0.0              0.0             0.0      0.0   \n19999           0.0        0.0              0.0             0.0      0.0   \n\n       Trick-taking  Variable Phase Order  Variable Player Powers  Voting  \\\n0               0.0                   0.0                     0.0     0.0   \n1               0.0                   0.0                     0.0     0.0   \n2               0.0                   0.0                     0.0     0.0   \n3               0.0                   0.0                     0.0     0.0   \n4               0.0                   0.0                     0.0     0.0   \n...             ...                   ...                     ...     ...   \n19995           0.0                   0.0                     0.0     0.0   \n19996           0.0                   0.0                     0.0     0.0   \n19997           0.0                   0.0                     0.0     0.0   \n19998           0.0                   0.0                     0.0     0.0   \n19999           0.0                   0.0                     0.0     0.0   \n\n       Worker Placement  \n0                   0.0  \n1                   0.0  \n2                   0.0  \n3                   0.0  \n4                   0.0  \n...                 ...  \n19995               0.0  \n19996               0.0  \n19997               0.0  \n19998               0.0  \n19999               0.0  \n\n[19058 rows x 125 columns]"
          },
          "execution_count": 267,
          "metadata": {},
          "output_type": "execute_result"
        }
      ],
      "source": [
        "# Drop any rows from final table that don't have any categories or mechanics remaining\n",
        "\n",
        "boardgame_final.dropna()"
      ]
    },
    {
      "cell_type": "code",
      "execution_count": 268,
      "metadata": {},
      "outputs": [
        {
          "data": {
            "text/plain": "['ID',\n 'Name',\n 'Avg Rating',\n 'Complexity',\n 'Abstract Strategy_Category',\n 'Action / Dexterity_Category',\n 'Adventure',\n 'Age of Reason',\n 'American Civil War',\n 'American West',\n 'Ancient',\n 'Animals',\n 'Aviation / Flight',\n 'Bluffing',\n 'Book',\n 'Card Game_Category',\n 'Childrens Game_Category',\n 'City Building',\n 'Civilization',\n 'Collectible Components',\n 'Comic Book / Strip',\n 'Deduction',\n 'Dice',\n 'Economic',\n 'Educational',\n 'Electronic',\n 'Environmental',\n 'Expansion for Base-game',\n 'Exploration',\n 'Fantasy',\n 'Farming',\n 'Fighting',\n 'Horror',\n 'Humor',\n 'Industry / Manufacturing',\n 'Mafia',\n 'Math',\n 'Mature / Adult',\n 'Maze',\n 'Medieval',\n 'Memory_Category',\n 'Miniatures',\n 'Modern Warfare',\n 'Movies / TV / Radio theme',\n 'Murder/Mystery',\n 'Mythology',\n 'Napoleonic',\n 'Nautical',\n 'Negotiation',\n 'Novel-based',\n 'Number',\n 'Party Game_Category',\n 'Pirates',\n 'Political',\n 'Prehistoric',\n 'Print & Play',\n 'Puzzle',\n 'Racing',\n 'Real-time',\n 'Renaissance',\n 'Science Fiction',\n 'Space Exploration',\n 'Spies/Secret Agents',\n 'Sports',\n 'Territory Building',\n 'Trains',\n 'Transportation',\n 'Travel',\n 'Trivia',\n 'Video Game Theme',\n 'Wargame',\n 'Word Game',\n 'World War I',\n 'World War II',\n 'Zombies',\n 'Abstract Strategy_Mechanic',\n 'Acting',\n 'Action / Dexterity_Mechanic',\n 'Action Points',\n 'Action Queue',\n 'Area Majority / Influence',\n 'Area Movement',\n 'Auction/Bidding',\n 'Betting and Bluffing',\n 'Campaign / Battle Card Driven',\n 'Card Drafting',\n 'Card Game_Mechanic',\n 'Childrens Game_Mechanic',\n 'Chit-Pull System',\n 'Commodity Speculation',\n 'Cooperative Game',\n 'Deck',\n 'Dice Rolling',\n 'Enclosure',\n 'Grid Movement',\n 'Hand Management',\n 'Hexagon Grid',\n 'Memory_Mechanic',\n 'Modular Board',\n 'Network and Route Building',\n 'Paper-and-Pencil',\n 'Party Game_Mechanic',\n 'Pattern Building',\n 'Pattern Recognition',\n 'Pick-up and Deliver',\n 'Player Elimination',\n 'Point to Point Movement',\n 'Push Your Luck',\n 'Role Playing',\n 'Roll / Spin and Move',\n 'Secret Unit Deployment',\n 'Set Collection',\n 'Simulation',\n 'Simultaneous Action Selection',\n 'Stock Holding',\n 'Storytelling',\n 'Take That',\n 'Team-Based Game',\n 'Tile Placement',\n 'Trading',\n 'Trick-taking',\n 'Variable Phase Order',\n 'Variable Player Powers',\n 'Voting',\n 'Worker Placement']"
          },
          "execution_count": 268,
          "metadata": {},
          "output_type": "execute_result"
        }
      ],
      "source": [
        "my_list = boardgame_final.columns.values.tolist()\n",
        "my_list\n"
      ]
    },
    {
      "cell_type": "code",
      "execution_count": 269,
      "metadata": {},
      "outputs": [
        {
          "data": {
            "text/html": "<div>\n<style scoped>\n    .dataframe tbody tr th:only-of-type {\n        vertical-align: middle;\n    }\n\n    .dataframe tbody tr th {\n        vertical-align: top;\n    }\n\n    .dataframe thead th {\n        text-align: right;\n    }\n</style>\n<table border=\"1\" class=\"dataframe\">\n  <thead>\n    <tr style=\"text-align: right;\">\n      <th></th>\n      <th>ID</th>\n      <th>Avg Rating</th>\n      <th>Complexity</th>\n      <th>Abstract Strategy_Category</th>\n      <th>Action / Dexterity_Category</th>\n      <th>Adventure</th>\n      <th>Age of Reason</th>\n      <th>American Civil War</th>\n      <th>American West</th>\n      <th>Ancient</th>\n      <th>...</th>\n      <th>Storytelling</th>\n      <th>Take That</th>\n      <th>Team-Based Game</th>\n      <th>Tile Placement</th>\n      <th>Trading</th>\n      <th>Trick-taking</th>\n      <th>Variable Phase Order</th>\n      <th>Variable Player Powers</th>\n      <th>Voting</th>\n      <th>Worker Placement</th>\n    </tr>\n  </thead>\n  <tbody>\n    <tr>\n      <th>0</th>\n      <td>174430</td>\n      <td>8.85292</td>\n      <td>3.8078</td>\n      <td>0.0</td>\n      <td>0.0</td>\n      <td>1.0</td>\n      <td>0.0</td>\n      <td>0.0</td>\n      <td>0.0</td>\n      <td>0.0</td>\n      <td>...</td>\n      <td>0.0</td>\n      <td>0.0</td>\n      <td>0.0</td>\n      <td>0.0</td>\n      <td>0.0</td>\n      <td>0.0</td>\n      <td>0.0</td>\n      <td>0.0</td>\n      <td>0.0</td>\n      <td>0.0</td>\n    </tr>\n    <tr>\n      <th>1</th>\n      <td>161936</td>\n      <td>8.62499</td>\n      <td>2.8301</td>\n      <td>0.0</td>\n      <td>0.0</td>\n      <td>0.0</td>\n      <td>0.0</td>\n      <td>0.0</td>\n      <td>0.0</td>\n      <td>0.0</td>\n      <td>...</td>\n      <td>0.0</td>\n      <td>0.0</td>\n      <td>0.0</td>\n      <td>0.0</td>\n      <td>0.0</td>\n      <td>0.0</td>\n      <td>0.0</td>\n      <td>0.0</td>\n      <td>0.0</td>\n      <td>0.0</td>\n    </tr>\n    <tr>\n      <th>2</th>\n      <td>167791</td>\n      <td>8.42299</td>\n      <td>3.2313</td>\n      <td>0.0</td>\n      <td>0.0</td>\n      <td>0.0</td>\n      <td>0.0</td>\n      <td>0.0</td>\n      <td>0.0</td>\n      <td>0.0</td>\n      <td>...</td>\n      <td>0.0</td>\n      <td>1.0</td>\n      <td>0.0</td>\n      <td>0.0</td>\n      <td>0.0</td>\n      <td>0.0</td>\n      <td>0.0</td>\n      <td>0.0</td>\n      <td>0.0</td>\n      <td>0.0</td>\n    </tr>\n    <tr>\n      <th>3</th>\n      <td>182028</td>\n      <td>8.49419</td>\n      <td>4.3850</td>\n      <td>0.0</td>\n      <td>0.0</td>\n      <td>0.0</td>\n      <td>0.0</td>\n      <td>0.0</td>\n      <td>0.0</td>\n      <td>0.0</td>\n      <td>...</td>\n      <td>0.0</td>\n      <td>0.0</td>\n      <td>0.0</td>\n      <td>0.0</td>\n      <td>0.0</td>\n      <td>0.0</td>\n      <td>0.0</td>\n      <td>0.0</td>\n      <td>0.0</td>\n      <td>0.0</td>\n    </tr>\n    <tr>\n      <th>4</th>\n      <td>224517</td>\n      <td>8.62031</td>\n      <td>3.9122</td>\n      <td>0.0</td>\n      <td>0.0</td>\n      <td>0.0</td>\n      <td>0.0</td>\n      <td>0.0</td>\n      <td>0.0</td>\n      <td>0.0</td>\n      <td>...</td>\n      <td>0.0</td>\n      <td>0.0</td>\n      <td>0.0</td>\n      <td>0.0</td>\n      <td>0.0</td>\n      <td>0.0</td>\n      <td>0.0</td>\n      <td>0.0</td>\n      <td>0.0</td>\n      <td>0.0</td>\n    </tr>\n  </tbody>\n</table>\n<p>5 rows × 124 columns</p>\n</div>",
            "text/plain": "       ID  Avg Rating  Complexity  Abstract Strategy_Category  \\\n0  174430     8.85292      3.8078                         0.0   \n1  161936     8.62499      2.8301                         0.0   \n2  167791     8.42299      3.2313                         0.0   \n3  182028     8.49419      4.3850                         0.0   \n4  224517     8.62031      3.9122                         0.0   \n\n   Action / Dexterity_Category  Adventure  Age of Reason  American Civil War  \\\n0                          0.0        1.0            0.0                 0.0   \n1                          0.0        0.0            0.0                 0.0   \n2                          0.0        0.0            0.0                 0.0   \n3                          0.0        0.0            0.0                 0.0   \n4                          0.0        0.0            0.0                 0.0   \n\n   American West  Ancient  ...  Storytelling  Take That  Team-Based Game  \\\n0            0.0      0.0  ...           0.0        0.0              0.0   \n1            0.0      0.0  ...           0.0        0.0              0.0   \n2            0.0      0.0  ...           0.0        1.0              0.0   \n3            0.0      0.0  ...           0.0        0.0              0.0   \n4            0.0      0.0  ...           0.0        0.0              0.0   \n\n   Tile Placement  Trading  Trick-taking  Variable Phase Order  \\\n0             0.0      0.0           0.0                   0.0   \n1             0.0      0.0           0.0                   0.0   \n2             0.0      0.0           0.0                   0.0   \n3             0.0      0.0           0.0                   0.0   \n4             0.0      0.0           0.0                   0.0   \n\n   Variable Player Powers  Voting  Worker Placement  \n0                     0.0     0.0               0.0  \n1                     0.0     0.0               0.0  \n2                     0.0     0.0               0.0  \n3                     0.0     0.0               0.0  \n4                     0.0     0.0               0.0  \n\n[5 rows x 124 columns]"
          },
          "execution_count": 269,
          "metadata": {},
          "output_type": "execute_result"
        }
      ],
      "source": [
        "# Now there is no use of genre \n",
        "# Since we have movie id so there is no need for movie names as well\n",
        "boardgame_final = boardgame_final.drop(['Name'],axis =1)\n",
        "boardgame_final.head()"
      ]
    },
    {
      "cell_type": "code",
      "execution_count": 270,
      "metadata": {},
      "outputs": [
        {
          "data": {
            "text/plain": "ID                                 0\nAvg Rating                         0\nComplexity                         0\nAbstract Strategy_Category       295\nAction / Dexterity_Category      295\nAdventure                        295\nAge of Reason                    295\nAmerican Civil War               295\nAmerican West                    295\nAncient                          295\nAnimals                          295\nAviation / Flight                295\nBluffing                         295\nBook                             295\nCard Game_Category               295\nChildrens Game_Category          295\nCity Building                    295\nCivilization                     295\nCollectible Components           295\nComic Book / Strip               295\nDeduction                        295\nDice                             295\nEconomic                         295\nEducational                      295\nElectronic                       295\nEnvironmental                    295\nExpansion for Base-game          295\nExploration                      295\nFantasy                          295\nFarming                          295\nFighting                         295\nHorror                           295\nHumor                            295\nIndustry / Manufacturing         295\nMafia                            295\nMath                             295\nMature / Adult                   295\nMaze                             295\nMedieval                         295\nMemory_Category                  295\nMiniatures                       295\nModern Warfare                   295\nMovies / TV / Radio theme        295\nMurder/Mystery                   295\nMythology                        295\nNapoleonic                       295\nNautical                         295\nNegotiation                      295\nNovel-based                      295\nNumber                           295\nParty Game_Category              295\nPirates                          295\nPolitical                        295\nPrehistoric                      295\nPrint & Play                     295\nPuzzle                           295\nRacing                           295\nReal-time                        295\nRenaissance                      295\nScience Fiction                  295\nSpace Exploration                295\nSpies/Secret Agents              295\nSports                           295\nTerritory Building               295\nTrains                           295\nTransportation                   295\nTravel                           295\nTrivia                           295\nVideo Game Theme                 295\nWargame                          295\nWord Game                        295\nWorld War I                      295\nWorld War II                     295\nZombies                          295\nAbstract Strategy_Mechanic       729\nActing                           729\nAction / Dexterity_Mechanic      729\nAction Points                    729\nAction Queue                     729\nArea Majority / Influence        729\nArea Movement                    729\nAuction/Bidding                  729\nBetting and Bluffing             729\nCampaign / Battle Card Driven    729\nCard Drafting                    729\nCard Game_Mechanic               729\nChildrens Game_Mechanic          729\nChit-Pull System                 729\nCommodity Speculation            729\nCooperative Game                 729\nDeck                             729\nDice Rolling                     729\nEnclosure                        729\nGrid Movement                    729\nHand Management                  729\nHexagon Grid                     729\nMemory_Mechanic                  729\nModular Board                    729\nNetwork and Route Building       729\nPaper-and-Pencil                 729\nParty Game_Mechanic              729\nPattern Building                 729\nPattern Recognition              729\nPick-up and Deliver              729\nPlayer Elimination               729\nPoint to Point Movement          729\nPush Your Luck                   729\nRole Playing                     729\nRoll / Spin and Move             729\nSecret Unit Deployment           729\nSet Collection                   729\nSimulation                       729\nSimultaneous Action Selection    729\nStock Holding                    729\nStorytelling                     729\nTake That                        729\nTeam-Based Game                  729\nTile Placement                   729\nTrading                          729\nTrick-taking                     729\nVariable Phase Order             729\nVariable Player Powers           729\nVoting                           729\nWorker Placement                 729\ndtype: int64"
          },
          "execution_count": 270,
          "metadata": {},
          "output_type": "execute_result"
        }
      ],
      "source": [
        "boardgame_final.isnull().sum()"
      ]
    },
    {
      "cell_type": "code",
      "execution_count": 271,
      "metadata": {},
      "outputs": [],
      "source": [
        "boardgame_final.dropna(inplace= True )\n"
      ]
    },
    {
      "cell_type": "code",
      "execution_count": 272,
      "metadata": {},
      "outputs": [
        {
          "data": {
            "text/plain": "ID                               0\nAvg Rating                       0\nComplexity                       0\nAbstract Strategy_Category       0\nAction / Dexterity_Category      0\nAdventure                        0\nAge of Reason                    0\nAmerican Civil War               0\nAmerican West                    0\nAncient                          0\nAnimals                          0\nAviation / Flight                0\nBluffing                         0\nBook                             0\nCard Game_Category               0\nChildrens Game_Category          0\nCity Building                    0\nCivilization                     0\nCollectible Components           0\nComic Book / Strip               0\nDeduction                        0\nDice                             0\nEconomic                         0\nEducational                      0\nElectronic                       0\nEnvironmental                    0\nExpansion for Base-game          0\nExploration                      0\nFantasy                          0\nFarming                          0\nFighting                         0\nHorror                           0\nHumor                            0\nIndustry / Manufacturing         0\nMafia                            0\nMath                             0\nMature / Adult                   0\nMaze                             0\nMedieval                         0\nMemory_Category                  0\nMiniatures                       0\nModern Warfare                   0\nMovies / TV / Radio theme        0\nMurder/Mystery                   0\nMythology                        0\nNapoleonic                       0\nNautical                         0\nNegotiation                      0\nNovel-based                      0\nNumber                           0\nParty Game_Category              0\nPirates                          0\nPolitical                        0\nPrehistoric                      0\nPrint & Play                     0\nPuzzle                           0\nRacing                           0\nReal-time                        0\nRenaissance                      0\nScience Fiction                  0\nSpace Exploration                0\nSpies/Secret Agents              0\nSports                           0\nTerritory Building               0\nTrains                           0\nTransportation                   0\nTravel                           0\nTrivia                           0\nVideo Game Theme                 0\nWargame                          0\nWord Game                        0\nWorld War I                      0\nWorld War II                     0\nZombies                          0\nAbstract Strategy_Mechanic       0\nActing                           0\nAction / Dexterity_Mechanic      0\nAction Points                    0\nAction Queue                     0\nArea Majority / Influence        0\nArea Movement                    0\nAuction/Bidding                  0\nBetting and Bluffing             0\nCampaign / Battle Card Driven    0\nCard Drafting                    0\nCard Game_Mechanic               0\nChildrens Game_Mechanic          0\nChit-Pull System                 0\nCommodity Speculation            0\nCooperative Game                 0\nDeck                             0\nDice Rolling                     0\nEnclosure                        0\nGrid Movement                    0\nHand Management                  0\nHexagon Grid                     0\nMemory_Mechanic                  0\nModular Board                    0\nNetwork and Route Building       0\nPaper-and-Pencil                 0\nParty Game_Mechanic              0\nPattern Building                 0\nPattern Recognition              0\nPick-up and Deliver              0\nPlayer Elimination               0\nPoint to Point Movement          0\nPush Your Luck                   0\nRole Playing                     0\nRoll / Spin and Move             0\nSecret Unit Deployment           0\nSet Collection                   0\nSimulation                       0\nSimultaneous Action Selection    0\nStock Holding                    0\nStorytelling                     0\nTake That                        0\nTeam-Based Game                  0\nTile Placement                   0\nTrading                          0\nTrick-taking                     0\nVariable Phase Order             0\nVariable Player Powers           0\nVoting                           0\nWorker Placement                 0\ndtype: int64"
          },
          "execution_count": 272,
          "metadata": {},
          "output_type": "execute_result"
        }
      ],
      "source": [
        "boardgame_final.isnull().sum()\n"
      ]
    },
    {
      "cell_type": "code",
      "execution_count": 273,
      "metadata": {},
      "outputs": [
        {
          "data": {
            "text/plain": "KMeans(n_clusters=2, random_state=0)"
          },
          "execution_count": 273,
          "metadata": {},
          "output_type": "execute_result"
        }
      ],
      "source": [
        "kmeanModel = KMeans(n_clusters=2, random_state= 0)\n",
        "kmeanModel.fit(boardgame_final)"
      ]
    },
    {
      "cell_type": "code",
      "execution_count": 274,
      "metadata": {},
      "outputs": [
        {
          "data": {
            "text/plain": "array([1, 1, 1, ..., 0, 0, 0], dtype=int32)"
          },
          "execution_count": 274,
          "metadata": {},
          "output_type": "execute_result"
        }
      ],
      "source": [
        "y_predicted = kmeanModel.fit_predict(boardgame_final)\n",
        "y_predicted\n"
      ]
    },
    {
      "cell_type": "code",
      "execution_count": 275,
      "metadata": {},
      "outputs": [
        {
          "data": {
            "text/plain": "2037     0\n11903    0\n6222     1\n16203    0\n6965     1\n4899     1\n1790     1\n17358    0\n2634     1\n9426     0\nName: Cluster, dtype: int32"
          },
          "execution_count": 275,
          "metadata": {},
          "output_type": "execute_result"
        }
      ],
      "source": [
        "# Creating an extra column in data for storing the cluster values\n",
        "boardgame_final['Cluster'] = kmeanModel.labels_\n",
        "boardgame_final['Cluster'].sample(n=10)"
      ]
    },
    {
      "cell_type": "code",
      "execution_count": 276,
      "metadata": {},
      "outputs": [
        {
          "data": {
            "text/plain": "0    11370\n1     7688\nName: Cluster, dtype: int64"
          },
          "execution_count": 276,
          "metadata": {},
          "output_type": "execute_result"
        }
      ],
      "source": [
        "boardgame_final['Cluster'].value_counts()\n"
      ]
    },
    {
      "cell_type": "code",
      "execution_count": 277,
      "metadata": {},
      "outputs": [],
      "source": [
        "scaler = StandardScaler()\n",
        "scaler.fit(boardgame_final[['Avg Rating']])\n",
        "boardgame_final['Avg Rating '] = scaler.transform(boardgame_final[['Avg Rating']])\n",
        "\n",
        "scaler.fit(boardgame_final[['Complexity']])\n",
        "boardgame_final['Complexity'] = scaler.transform(boardgame_final[['Complexity']])\n",
        "\n"
      ]
    },
    {
      "cell_type": "code",
      "execution_count": 278,
      "metadata": {},
      "outputs": [
        {
          "data": {
            "text/html": "<div>\n<style scoped>\n    .dataframe tbody tr th:only-of-type {\n        vertical-align: middle;\n    }\n\n    .dataframe tbody tr th {\n        vertical-align: top;\n    }\n\n    .dataframe thead th {\n        text-align: right;\n    }\n</style>\n<table border=\"1\" class=\"dataframe\">\n  <thead>\n    <tr style=\"text-align: right;\">\n      <th></th>\n      <th>ID</th>\n      <th>Avg Rating</th>\n      <th>Complexity</th>\n      <th>Abstract Strategy_Category</th>\n      <th>Action / Dexterity_Category</th>\n      <th>Adventure</th>\n      <th>Age of Reason</th>\n      <th>American Civil War</th>\n      <th>American West</th>\n      <th>Ancient</th>\n      <th>...</th>\n      <th>Team-Based Game</th>\n      <th>Tile Placement</th>\n      <th>Trading</th>\n      <th>Trick-taking</th>\n      <th>Variable Phase Order</th>\n      <th>Variable Player Powers</th>\n      <th>Voting</th>\n      <th>Worker Placement</th>\n      <th>Cluster</th>\n      <th>Avg Rating</th>\n    </tr>\n  </thead>\n  <tbody>\n    <tr>\n      <th>0</th>\n      <td>174430</td>\n      <td>8.85292</td>\n      <td>2.080407</td>\n      <td>0.0</td>\n      <td>0.0</td>\n      <td>1.0</td>\n      <td>0.0</td>\n      <td>0.0</td>\n      <td>0.0</td>\n      <td>0.0</td>\n      <td>...</td>\n      <td>0.0</td>\n      <td>0.0</td>\n      <td>0.0</td>\n      <td>0.0</td>\n      <td>0.0</td>\n      <td>0.0</td>\n      <td>0.0</td>\n      <td>0.0</td>\n      <td>1</td>\n      <td>2.427465</td>\n    </tr>\n    <tr>\n      <th>1</th>\n      <td>161936</td>\n      <td>8.62499</td>\n      <td>0.988336</td>\n      <td>0.0</td>\n      <td>0.0</td>\n      <td>0.0</td>\n      <td>0.0</td>\n      <td>0.0</td>\n      <td>0.0</td>\n      <td>0.0</td>\n      <td>...</td>\n      <td>0.0</td>\n      <td>0.0</td>\n      <td>0.0</td>\n      <td>0.0</td>\n      <td>0.0</td>\n      <td>0.0</td>\n      <td>0.0</td>\n      <td>0.0</td>\n      <td>1</td>\n      <td>2.211013</td>\n    </tr>\n    <tr>\n      <th>2</th>\n      <td>167791</td>\n      <td>8.42299</td>\n      <td>1.436468</td>\n      <td>0.0</td>\n      <td>0.0</td>\n      <td>0.0</td>\n      <td>0.0</td>\n      <td>0.0</td>\n      <td>0.0</td>\n      <td>0.0</td>\n      <td>...</td>\n      <td>0.0</td>\n      <td>0.0</td>\n      <td>0.0</td>\n      <td>0.0</td>\n      <td>0.0</td>\n      <td>0.0</td>\n      <td>0.0</td>\n      <td>0.0</td>\n      <td>1</td>\n      <td>2.019184</td>\n    </tr>\n    <tr>\n      <th>3</th>\n      <td>182028</td>\n      <td>8.49419</td>\n      <td>2.725127</td>\n      <td>0.0</td>\n      <td>0.0</td>\n      <td>0.0</td>\n      <td>0.0</td>\n      <td>0.0</td>\n      <td>0.0</td>\n      <td>0.0</td>\n      <td>...</td>\n      <td>0.0</td>\n      <td>0.0</td>\n      <td>0.0</td>\n      <td>0.0</td>\n      <td>0.0</td>\n      <td>0.0</td>\n      <td>0.0</td>\n      <td>0.0</td>\n      <td>1</td>\n      <td>2.086799</td>\n    </tr>\n    <tr>\n      <th>4</th>\n      <td>224517</td>\n      <td>8.62031</td>\n      <td>2.197019</td>\n      <td>0.0</td>\n      <td>0.0</td>\n      <td>0.0</td>\n      <td>0.0</td>\n      <td>0.0</td>\n      <td>0.0</td>\n      <td>0.0</td>\n      <td>...</td>\n      <td>0.0</td>\n      <td>0.0</td>\n      <td>0.0</td>\n      <td>0.0</td>\n      <td>0.0</td>\n      <td>0.0</td>\n      <td>0.0</td>\n      <td>0.0</td>\n      <td>1</td>\n      <td>2.206568</td>\n    </tr>\n  </tbody>\n</table>\n<p>5 rows × 126 columns</p>\n</div>",
            "text/plain": "       ID  Avg Rating  Complexity  Abstract Strategy_Category  \\\n0  174430     8.85292    2.080407                         0.0   \n1  161936     8.62499    0.988336                         0.0   \n2  167791     8.42299    1.436468                         0.0   \n3  182028     8.49419    2.725127                         0.0   \n4  224517     8.62031    2.197019                         0.0   \n\n   Action / Dexterity_Category  Adventure  Age of Reason  American Civil War  \\\n0                          0.0        1.0            0.0                 0.0   \n1                          0.0        0.0            0.0                 0.0   \n2                          0.0        0.0            0.0                 0.0   \n3                          0.0        0.0            0.0                 0.0   \n4                          0.0        0.0            0.0                 0.0   \n\n   American West  Ancient  ...  Team-Based Game  Tile Placement  Trading  \\\n0            0.0      0.0  ...              0.0             0.0      0.0   \n1            0.0      0.0  ...              0.0             0.0      0.0   \n2            0.0      0.0  ...              0.0             0.0      0.0   \n3            0.0      0.0  ...              0.0             0.0      0.0   \n4            0.0      0.0  ...              0.0             0.0      0.0   \n\n   Trick-taking  Variable Phase Order  Variable Player Powers  Voting  \\\n0           0.0                   0.0                     0.0     0.0   \n1           0.0                   0.0                     0.0     0.0   \n2           0.0                   0.0                     0.0     0.0   \n3           0.0                   0.0                     0.0     0.0   \n4           0.0                   0.0                     0.0     0.0   \n\n   Worker Placement  Cluster  Avg Rating   \n0               0.0        1     2.427465  \n1               0.0        1     2.211013  \n2               0.0        1     2.019184  \n3               0.0        1     2.086799  \n4               0.0        1     2.206568  \n\n[5 rows x 126 columns]"
          },
          "execution_count": 278,
          "metadata": {},
          "output_type": "execute_result"
        }
      ],
      "source": [
        "boardgame_final.head()"
      ]
    },
    {
      "cell_type": "code",
      "execution_count": 279,
      "metadata": {},
      "outputs": [
        {
          "data": {
            "text/plain": "array([0, 0, 0, ..., 1, 1, 1], dtype=int32)"
          },
          "execution_count": 279,
          "metadata": {},
          "output_type": "execute_result"
        }
      ],
      "source": [
        "kmeanModel = KMeans(n_clusters=2, random_state= 0)\n",
        "y_predicted = kmeanModel.fit_predict(boardgame_final[['ID', 'Avg Rating', 'Complexity']])\n",
        "y_predicted\n"
      ]
    },
    {
      "cell_type": "code",
      "execution_count": 280,
      "metadata": {},
      "outputs": [],
      "source": [
        "k_rng = range(1,11)\n",
        "sse = []\n",
        "for k in k_rng:\n",
        "    kmeanModel = KMeans(n_clusters = k)\n",
        "    kmeanModel.fit(boardgame_final[['ID', 'Avg Rating']])\n",
        "    sse.append(kmeanModel.inertia_)"
      ]
    },
    {
      "cell_type": "code",
      "execution_count": 281,
      "metadata": {},
      "outputs": [
        {
          "data": {
            "text/plain": "[155811822201693.34,\n 24520399184214.145,\n 10342053463775.791,\n 5944701089906.889,\n 3961994591963.6997,\n 2723262035133.554,\n 1915405031131.63,\n 1466458767400.5088,\n 1142526048629.2156,\n 940915823549.0725]"
          },
          "execution_count": 281,
          "metadata": {},
          "output_type": "execute_result"
        }
      ],
      "source": [
        "sse"
      ]
    },
    {
      "cell_type": "code",
      "execution_count": 282,
      "metadata": {},
      "outputs": [
        {
          "data": {
            "text/plain": "[<matplotlib.lines.Line2D at 0x7fed09ad0c50>]"
          },
          "execution_count": 282,
          "metadata": {},
          "output_type": "execute_result"
        },
        {
          "data": {
            "image/png": "[encoded data removed]",
            "text/plain": "<Figure size 432x288 with 1 Axes>"
          },
          "metadata": {
            "needs_background": "light"
          },
          "output_type": "display_data"
        }
      ],
      "source": [
        "plt.xlabel('k')\n",
        "plt.ylabel('Sum of squared error')\n",
        "plt.plot(k_rng,sse)"
      ]
    },
    {
      "cell_type": "code",
      "execution_count": 305,
      "metadata": {},
      "outputs": [],
      "source": [
        "y = boardgame_final['ID']\n",
        "X = boardgame_final.drop(columns='ID')"
      ]
    },
    {
      "cell_type": "code",
      "execution_count": 306,
      "metadata": {},
      "outputs": [],
      "source": [
        "X_train, X_test, y_train, y_test = train_test_split(X, y, random_state=0)"
      ]
    },
    {
      "cell_type": "code",
      "execution_count": 307,
      "metadata": {},
      "outputs": [
        {
          "data": {
            "text/plain": "KNeighborsClassifier(n_neighbors=2)"
          },
          "execution_count": 307,
          "metadata": {},
          "output_type": "execute_result"
        }
      ],
      "source": [
        "knn = KNeighborsClassifier(n_neighbors = 2)\n",
        "knn.fit(X_train, y_train)"
      ]
    },
    {
      "cell_type": "code",
      "execution_count": 308,
      "metadata": {},
      "outputs": [
        {
          "data": {
            "text/plain": "0.4812145805639124"
          },
          "execution_count": 308,
          "metadata": {},
          "output_type": "execute_result"
        }
      ],
      "source": [
        "knn.score(X_train, y_train)"
      ]
    },
    {
      "cell_type": "code",
      "execution_count": 309,
      "metadata": {},
      "outputs": [
        {
          "data": {
            "text/plain": "0.0"
          },
          "execution_count": 309,
          "metadata": {},
          "output_type": "execute_result"
        }
      ],
      "source": [
        "knn.score(X_test, y_test)"
      ]
    },
    {
      "cell_type": "code",
      "execution_count": null,
      "metadata": {},
      "outputs": [],
      "source": []
    },
    {
      "cell_type": "code",
      "execution_count": 314,
      "metadata": {},
      "outputs": [],
      "source": [
        "# allot a single cluster to a movie \n",
        "bg = []\n",
        "def fi(group):\n",
        "    a = pd.DataFrame(group)\n",
        "    b = pd.DataFrame(a['Cluster'].value_counts())\n",
        "    d = a.index \n",
        "    c = [a['ID'][d[0]],int(b.idxmax())]\n",
        "    bg.append(c) "
      ]
    },
    {
      "cell_type": "code",
      "execution_count": 315,
      "metadata": {},
      "outputs": [
        {
          "data": {
            "text/html": "<div>\n<style scoped>\n    .dataframe tbody tr th:only-of-type {\n        vertical-align: middle;\n    }\n\n    .dataframe tbody tr th {\n        vertical-align: top;\n    }\n\n    .dataframe thead th {\n        text-align: right;\n    }\n</style>\n<table border=\"1\" class=\"dataframe\">\n  <thead>\n    <tr style=\"text-align: right;\">\n      <th></th>\n    </tr>\n  </thead>\n  <tbody>\n  </tbody>\n</table>\n</div>",
            "text/plain": "Empty DataFrame\nColumns: []\nIndex: []"
          },
          "execution_count": 315,
          "metadata": {},
          "output_type": "execute_result"
        }
      ],
      "source": [
        "boardgame_final.groupby(\"ID\").apply(lambda x: fi(x))\n"
      ]
    },
    {
      "cell_type": "code",
      "execution_count": 316,
      "metadata": {},
      "outputs": [],
      "source": [
        "bg = pd.DataFrame(bg)\n"
      ]
    },
    {
      "cell_type": "code",
      "execution_count": 317,
      "metadata": {},
      "outputs": [
        {
          "data": {
            "text/html": "<div>\n<style scoped>\n    .dataframe tbody tr th:only-of-type {\n        vertical-align: middle;\n    }\n\n    .dataframe tbody tr th {\n        vertical-align: top;\n    }\n\n    .dataframe thead th {\n        text-align: right;\n    }\n</style>\n<table border=\"1\" class=\"dataframe\">\n  <thead>\n    <tr style=\"text-align: right;\">\n      <th></th>\n      <th>0</th>\n      <th>1</th>\n    </tr>\n  </thead>\n  <tbody>\n    <tr>\n      <th>0</th>\n      <td>1</td>\n      <td>0</td>\n    </tr>\n    <tr>\n      <th>1</th>\n      <td>1</td>\n      <td>0</td>\n    </tr>\n    <tr>\n      <th>2</th>\n      <td>2</td>\n      <td>0</td>\n    </tr>\n    <tr>\n      <th>3</th>\n      <td>3</td>\n      <td>0</td>\n    </tr>\n    <tr>\n      <th>4</th>\n      <td>4</td>\n      <td>0</td>\n    </tr>\n  </tbody>\n</table>\n</div>",
            "text/plain": "   0  1\n0  1  0\n1  1  0\n2  2  0\n3  3  0\n4  4  0"
          },
          "execution_count": 317,
          "metadata": {},
          "output_type": "execute_result"
        }
      ],
      "source": [
        "bg.head()\n"
      ]
    },
    {
      "cell_type": "code",
      "execution_count": 318,
      "metadata": {},
      "outputs": [],
      "source": [
        "# rename colomn headers \n",
        "bg.rename(columns = {0:'ID',1:'Cluster'},inplace=True)\n",
        "bg.drop_duplicates(inplace=True)"
      ]
    },
    {
      "cell_type": "code",
      "execution_count": 319,
      "metadata": {},
      "outputs": [
        {
          "data": {
            "text/html": "<div>\n<style scoped>\n    .dataframe tbody tr th:only-of-type {\n        vertical-align: middle;\n    }\n\n    .dataframe tbody tr th {\n        vertical-align: top;\n    }\n\n    .dataframe thead th {\n        text-align: right;\n    }\n</style>\n<table border=\"1\" class=\"dataframe\">\n  <thead>\n    <tr style=\"text-align: right;\">\n      <th></th>\n      <th>ID</th>\n      <th>Cluster</th>\n    </tr>\n  </thead>\n  <tbody>\n    <tr>\n      <th>0</th>\n      <td>1</td>\n      <td>0</td>\n    </tr>\n    <tr>\n      <th>2</th>\n      <td>2</td>\n      <td>0</td>\n    </tr>\n    <tr>\n      <th>3</th>\n      <td>3</td>\n      <td>0</td>\n    </tr>\n    <tr>\n      <th>4</th>\n      <td>4</td>\n      <td>0</td>\n    </tr>\n    <tr>\n      <th>5</th>\n      <td>5</td>\n      <td>0</td>\n    </tr>\n    <tr>\n      <th>6</th>\n      <td>6</td>\n      <td>0</td>\n    </tr>\n    <tr>\n      <th>7</th>\n      <td>7</td>\n      <td>0</td>\n    </tr>\n    <tr>\n      <th>8</th>\n      <td>8</td>\n      <td>0</td>\n    </tr>\n    <tr>\n      <th>9</th>\n      <td>9</td>\n      <td>0</td>\n    </tr>\n    <tr>\n      <th>10</th>\n      <td>10</td>\n      <td>0</td>\n    </tr>\n  </tbody>\n</table>\n</div>",
            "text/plain": "    ID  Cluster\n0    1        0\n2    2        0\n3    3        0\n4    4        0\n5    5        0\n6    6        0\n7    7        0\n8    8        0\n9    9        0\n10  10        0"
          },
          "execution_count": 319,
          "metadata": {},
          "output_type": "execute_result"
        }
      ],
      "source": [
        "bg.head(10)\n"
      ]
    },
    {
      "cell_type": "code",
      "execution_count": 320,
      "metadata": {},
      "outputs": [],
      "source": [
        "#merge the data with the orginal board game final to show tiitle \n",
        "\n",
        "new_bg_data = pd.merge(bg , boardgame_df , how='outer', on='ID')"
      ]
    },
    {
      "cell_type": "code",
      "execution_count": 321,
      "metadata": {},
      "outputs": [
        {
          "data": {
            "text/plain": "ID              0\nCluster       942\nName            0\nAvg Rating      0\nComplexity      0\nCategory        0\nMechanic        0\ndtype: int64"
          },
          "execution_count": 321,
          "metadata": {},
          "output_type": "execute_result"
        }
      ],
      "source": [
        "new_bg_data.isnull().sum()\n"
      ]
    },
    {
      "cell_type": "code",
      "execution_count": 322,
      "metadata": {},
      "outputs": [],
      "source": [
        "# label bg randomly\n",
        "new_bg_data.fillna(random.randint(0,8),inplace=True)"
      ]
    },
    {
      "cell_type": "code",
      "execution_count": 324,
      "metadata": {},
      "outputs": [
        {
          "data": {
            "text/html": "<div>\n<style scoped>\n    .dataframe tbody tr th:only-of-type {\n        vertical-align: middle;\n    }\n\n    .dataframe tbody tr th {\n        vertical-align: top;\n    }\n\n    .dataframe thead th {\n        text-align: right;\n    }\n</style>\n<table border=\"1\" class=\"dataframe\">\n  <thead>\n    <tr style=\"text-align: right;\">\n      <th></th>\n      <th>ID</th>\n      <th>Cluster</th>\n      <th>Name</th>\n      <th>Avg Rating</th>\n      <th>Complexity</th>\n      <th>Category</th>\n      <th>Mechanic</th>\n    </tr>\n  </thead>\n  <tbody>\n    <tr>\n      <th>0</th>\n      <td>1</td>\n      <td>0.0</td>\n      <td>Die Macher</td>\n      <td>7.62280</td>\n      <td>4.3433</td>\n      <td>['Economic', 'Negotiation', 'Political']</td>\n      <td>['Area Majority / Influence', 'Auction/Bidding...</td>\n    </tr>\n    <tr>\n      <th>1</th>\n      <td>2</td>\n      <td>0.0</td>\n      <td>Dragonmaster</td>\n      <td>6.60448</td>\n      <td>1.9630</td>\n      <td>['Card Game', 'Fantasy']</td>\n      <td>['Trick-taking']</td>\n    </tr>\n    <tr>\n      <th>2</th>\n      <td>3</td>\n      <td>0.0</td>\n      <td>Samurai</td>\n      <td>7.44259</td>\n      <td>2.4961</td>\n      <td>['Abstract Strategy', 'Medieval']</td>\n      <td>['Area Majority / Influence', 'Hand Management...</td>\n    </tr>\n    <tr>\n      <th>3</th>\n      <td>4</td>\n      <td>0.0</td>\n      <td>Tal der Könige</td>\n      <td>6.60924</td>\n      <td>2.6667</td>\n      <td>['Ancient']</td>\n      <td>['Action Points', 'Area Majority / Influence',...</td>\n    </tr>\n    <tr>\n      <th>4</th>\n      <td>5</td>\n      <td>0.0</td>\n      <td>Acquire</td>\n      <td>7.34739</td>\n      <td>2.5057</td>\n      <td>['Economic']</td>\n      <td>['Hand Management', 'Investment', 'Market', 'O...</td>\n    </tr>\n    <tr>\n      <th>...</th>\n      <td>...</td>\n      <td>...</td>\n      <td>...</td>\n      <td>...</td>\n      <td>...</td>\n      <td>...</td>\n      <td>...</td>\n    </tr>\n    <tr>\n      <th>19995</th>\n      <td>5118</td>\n      <td>2.0</td>\n      <td>Deduction</td>\n      <td>5.99050</td>\n      <td>1.2000</td>\n      <td>['Deduction']</td>\n      <td>['Deduction']</td>\n    </tr>\n    <tr>\n      <th>19996</th>\n      <td>5123</td>\n      <td>2.0</td>\n      <td>Keyword</td>\n      <td>5.29444</td>\n      <td>1.0000</td>\n      <td>['Word Game']</td>\n      <td>['Word Game']</td>\n    </tr>\n    <tr>\n      <th>19997</th>\n      <td>5128</td>\n      <td>2.0</td>\n      <td>The Beatles Flip Your Wig Game</td>\n      <td>4.00000</td>\n      <td>1.6667</td>\n      <td>['Music']</td>\n      <td>['Roll / Spin and Move', 'Set Collection']</td>\n    </tr>\n    <tr>\n      <th>19998</th>\n      <td>5145</td>\n      <td>2.0</td>\n      <td>Det store norske spillet</td>\n      <td>5.97222</td>\n      <td>1.0000</td>\n      <td>['Trivia']</td>\n      <td>['Trivia']</td>\n    </tr>\n    <tr>\n      <th>19999</th>\n      <td>5147</td>\n      <td>2.0</td>\n      <td>Ad-Lib</td>\n      <td>5.14444</td>\n      <td>0.0000</td>\n      <td>['Word Game']</td>\n      <td>['Word Game']</td>\n    </tr>\n  </tbody>\n</table>\n<p>20000 rows × 7 columns</p>\n</div>",
            "text/plain": "         ID  Cluster                            Name  Avg Rating  Complexity  \\\n0         1      0.0                      Die Macher     7.62280      4.3433   \n1         2      0.0                    Dragonmaster     6.60448      1.9630   \n2         3      0.0                         Samurai     7.44259      2.4961   \n3         4      0.0                  Tal der Könige     6.60924      2.6667   \n4         5      0.0                         Acquire     7.34739      2.5057   \n...     ...      ...                             ...         ...         ...   \n19995  5118      2.0                       Deduction     5.99050      1.2000   \n19996  5123      2.0                         Keyword     5.29444      1.0000   \n19997  5128      2.0  The Beatles Flip Your Wig Game     4.00000      1.6667   \n19998  5145      2.0        Det store norske spillet     5.97222      1.0000   \n19999  5147      2.0                          Ad-Lib     5.14444      0.0000   \n\n                                       Category  \\\n0      ['Economic', 'Negotiation', 'Political']   \n1                      ['Card Game', 'Fantasy']   \n2             ['Abstract Strategy', 'Medieval']   \n3                                   ['Ancient']   \n4                                  ['Economic']   \n...                                         ...   \n19995                             ['Deduction']   \n19996                             ['Word Game']   \n19997                                 ['Music']   \n19998                                ['Trivia']   \n19999                             ['Word Game']   \n\n                                                Mechanic  \n0      ['Area Majority / Influence', 'Auction/Bidding...  \n1                                       ['Trick-taking']  \n2      ['Area Majority / Influence', 'Hand Management...  \n3      ['Action Points', 'Area Majority / Influence',...  \n4      ['Hand Management', 'Investment', 'Market', 'O...  \n...                                                  ...  \n19995                                      ['Deduction']  \n19996                                      ['Word Game']  \n19997         ['Roll / Spin and Move', 'Set Collection']  \n19998                                         ['Trivia']  \n19999                                      ['Word Game']  \n\n[20000 rows x 7 columns]"
          },
          "execution_count": 324,
          "metadata": {},
          "output_type": "execute_result"
        }
      ],
      "source": [
        "new_bg_data.isnull().sum()\n",
        "\n",
        "new_bg_data"
      ]
    },
    {
      "cell_type": "code",
      "execution_count": 353,
      "metadata": {},
      "outputs": [],
      "source": [
        "#This function select the cluster for a user according the the user choice\n",
        "def select_bg():\n",
        "    global l\n",
        "    print('Select the boardgames that you would like to play:')\n",
        "    l=[]\n",
        "    for i in range(15):\n",
        "        l.append(random.randint(0,3883))\n",
        "    for i in l:\n",
        "        print(new_bg_data['ID'][i] , new_bg_data['Name'][i],sep='--->')\n",
        "    print('--------------------------------------------------------------------')\n",
        "    l = int(input())\n",
        "    l = new_bg_data['Cluster'][new_bg_data.ID == l]"
      ]
    },
    {
      "cell_type": "code",
      "execution_count": 354,
      "metadata": {},
      "outputs": [],
      "source": [
        "# This is the main function which recommend you board games \n",
        "def BoardgameRecommender():\n",
        "    ans = False\n",
        "    while not ans:\n",
        "        select_bg()\n",
        "        print(new_bg_data['Name'][new_bg_data.Cluster == int(l)].sample(n=10))\n",
        "        print('--------------------------------------------------------------------')\n",
        "        print('Here are similar board games you might also enjoy. Do these sound fun (y/n)')\n",
        "        abc = input()\n",
        "        while ((abc =='y') or (abc == 'Y')):          \n",
        "            print(new_bg_data['Name'][new_bg_data.Cluster == int(l)].sample(n=10))\n",
        "            print('--------------------------------------------------------------------')\n",
        "            print('Want to see more (y/n) ?')\n",
        "            abc = input()\n",
        "            if ((abc =='N') or (abc == 'n')):\n",
        "                ans =True"
      ]
    },
    {
      "cell_type": "code",
      "execution_count": 355,
      "metadata": {},
      "outputs": [
        {
          "name": "stdout",
          "output_type": "stream",
          "text": [
            "Select the boardgames that you would like to play:\n",
            "2866--->The London Game\n",
            "1238--->Schlangennest\n",
            "4038--->Skip-Bo Dice\n",
            "193--->Tutto! Volle Lotte\n",
            "1258--->Phase 10\n",
            "3186--->The Famous Monarchs of England Card Game\n",
            "2724--->Apache\n",
            "804--->ThunderRoad\n",
            "1978--->Rasant\n",
            "1424--->Book of Lists Game\n",
            "551--->Battle Cry\n",
            "623--->Swashbuckler\n",
            "1308--->Confusion\n",
            "2540--->Beest\n",
            "299--->De Bellis Antiquitatis\n",
            "--------------------------------------------------------------------\n"
          ]
        }
      ],
      "source": [
        "BoardgameRecommender()\n"
      ]
    }
  ],
  "metadata": {
    "colab": {
      "collapsed_sections": [],
      "name": "Boardgames.ipynb",
      "provenance": []
    },
    "interpreter": {
      "hash": "03e16bf20b38c5bc3bf00c976c15238982088169e9834c6084af3096887b3e40"
    },
    "kernelspec": {
      "display_name": "Python 3.6.10 64-bit ('PythonData': conda)",
      "name": "python3"
    },
    "language_info": {
      "codemirror_mode": {
        "name": "ipython",
        "version": 3
      },
      "file_extension": ".py",
      "mimetype": "text/x-python",
      "name": "python",
      "nbconvert_exporter": "python",
      "pygments_lexer": "ipython3",
      "version": "3.6.10"
    }
  },
  "nbformat": 4,
  "nbformat_minor": 0
}